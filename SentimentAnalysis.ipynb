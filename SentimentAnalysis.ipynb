{
  "cells": [
    {
      "attachments": {},
      "cell_type": "markdown",
      "id": "919521a4",
      "metadata": {},
      "source": [
        "# Proyecto de análisis de sentimientos con Python\n"
      ]
    },
    {
      "attachments": {},
      "cell_type": "markdown",
      "id": "ae3550be",
      "metadata": {},
      "source": [
        "Curso 2022/2023\n",
        "\n",
        "    Juan López Quirós\n",
        "    \n",
        "    Jose Ignacio Castro Vázquez"
      ]
    },
    {
      "attachments": {},
      "cell_type": "markdown",
      "id": "25ad663c",
      "metadata": {},
      "source": [
        " Lo primero que hay que hacer es escoger o recopilar una primera versión de los datos necesarios que utilizarmos \n",
        " para entrenar a nuestros modelos de Aprendizaje automático. \n",
        " Tras haber estudiado los varios problemas con la API de twitter y las alternativas propuestas, nos decidimos por \n",
        " buscar un dataset ya recopilado de tweets reales de la página web kaggle. En concreto nos decidimos por un dataset\n",
        " ya enfocado al análisis de sentimientos con más de 1.6 millones de tweets recopilados directamente de la API de twitter\n",
        " por lo que se ajusta perfectamente al proyecto.\n",
        "\n",
        " url : https://www.kaggle.com/datasets/kazanova/sentiment140"
      ]
    },
    {
      "attachments": {},
      "cell_type": "markdown",
      "id": "811715a9",
      "metadata": {},
      "source": [
        " Luego, tenemos que limpiar el dataset escogido para este proyecto.\n",
        " A nosotros solo nos interesa una columna en particular de todo el dataset y ese es la columna de texto, que contiene\n",
        " el contenido de los tweets en sí. Para leer el fichero de datos y procesarlo, utilizaremos pandas."
      ]
    },
    {
      "cell_type": "code",
      "execution_count": 1,
      "id": "7e578258",
      "metadata": {},
      "outputs": [],
      "source": [
        "import pandas as pd"
      ]
    },
    {
      "attachments": {},
      "cell_type": "markdown",
      "id": "1178fa45",
      "metadata": {},
      "source": [
        "Definimos la función que se encarga de leer y procesar el fichero de datos. Esta función eliminará las columnas irrelevantes, seleccionará un subset de 5000 tweets que formará el corpus de nuestros modelos y por último los guardará en otro fichero para su uso más adelante."
      ]
    },
    {
      "cell_type": "code",
      "execution_count": 2,
      "id": "86fe3086",
      "metadata": {},
      "outputs": [],
      "source": [
        "def create_cleaned_csv(original_filename, target_filename):\n",
        "    #uft-8 encoding didn't work, latin1 encoding did.\n",
        "    data = pd.read_csv(original_filename, encoding=\"latin1\", header=None)\n",
        "\n",
        "    #We give the columns a name\n",
        "    column_names = [\"target\", \"id\", \"date\", \"flag\", \"user\", \"text\"]\n",
        "    data.columns = column_names\n",
        "\n",
        "    #We eliminate innecessary columns\n",
        "    data.drop(columns=[\"target\", \"id\", \"date\", \"flag\", \"user\"], inplace=True)\n",
        "\n",
        "    #We select a subset of 5000 tweets\n",
        "    data = data[:5000]\n",
        "\n",
        "    #Save data onto new file\n",
        "    data.to_csv(target_filename, index=False)\n",
        "    print(\"FINAL RESULT: \\n\")\n",
        "    print(data)"
      ]
    },
    {
      "cell_type": "code",
      "execution_count": 3,
      "id": "89e3af96",
      "metadata": {},
      "outputs": [
        {
          "name": "stdout",
          "output_type": "stream",
          "text": [
            "FINAL RESULT: \n",
            "\n",
            "                                                   text\n",
            "0     @switchfoot http://twitpic.com/2y1zl - Awww, t...\n",
            "1     is upset that he can't update his Facebook by ...\n",
            "2     @Kenichan I dived many times for the ball. Man...\n",
            "3       my whole body feels itchy and like its on fire \n",
            "4     @nationwideclass no, it's not behaving at all....\n",
            "...                                                 ...\n",
            "4995                                    long day today \n",
            "4996                     a friend broke his promises.. \n",
            "4997               @gjarnling I am fine thanks - tired \n",
            "4998          trying to keep my eyes open..damn baking \n",
            "4999                        why the hell is it snowing \n",
            "\n",
            "[5000 rows x 1 columns]\n"
          ]
        }
      ],
      "source": [
        "create_cleaned_csv(\"tweet_data.csv\", \"subset_tweet_data.csv\")        "
      ]
    },
    {
      "attachments": {},
      "cell_type": "markdown",
      "id": "266d73ff",
      "metadata": {},
      "source": [
        "A continuación, utilizamos la libreria NLTK para limpiar, tokenizar y lematizar nuestro dataset.\n",
        "\n",
        "Para esto, descargamos los recursos necesarios para trabajar con la librería nltk."
      ]
    },
    {
      "cell_type": "code",
      "execution_count": 4,
      "id": "803a889f",
      "metadata": {},
      "outputs": [
        {
          "name": "stderr",
          "output_type": "stream",
          "text": [
            "[nltk_data] Downloading package stopwords to\n",
            "[nltk_data]     C:\\Users\\juanq\\AppData\\Roaming\\nltk_data...\n",
            "[nltk_data]   Package stopwords is already up-to-date!\n",
            "[nltk_data] Downloading package punkt to\n",
            "[nltk_data]     C:\\Users\\juanq\\AppData\\Roaming\\nltk_data...\n",
            "[nltk_data]   Package punkt is already up-to-date!\n"
          ]
        },
        {
          "data": {
            "text/plain": [
              "True"
            ]
          },
          "execution_count": 4,
          "metadata": {},
          "output_type": "execute_result"
        }
      ],
      "source": [
        "import nltk\n",
        "nltk.download('stopwords')\n",
        "nltk.download('punkt')"
      ]
    },
    {
      "attachments": {},
      "cell_type": "markdown",
      "id": "27bc7c22",
      "metadata": {},
      "source": [
        "Para asegurarnos de que el recurso que contiene las stopwords se descargó correctamente, los mostramos por pantalla."
      ]
    },
    {
      "cell_type": "code",
      "execution_count": 5,
      "id": "1e18294e",
      "metadata": {},
      "outputs": [
        {
          "name": "stdout",
          "output_type": "stream",
          "text": [
            "{'not', 'out', 'in', 'was', 'herself', 'doing', 'such', 'no', 'is', 'as', \"shan't\", \"you've\", 'so', \"don't\", 'when', 'nor', 'theirs', 'does', 'here', 'ain', 'its', 'how', 'she', 'more', 'i', 'it', 'these', 'be', 'had', 'who', 'our', 'just', 'shan', 'very', \"shouldn't\", \"aren't\", 'my', \"hasn't\", 'me', 'further', 'whom', 'few', 'to', 'against', \"haven't\", 'been', 'if', 'from', 'didn', 'doesn', 'most', 'have', \"it's\", 'same', 'o', 'through', 'by', 'between', 'off', 'm', 'y', 'which', 'hasn', 'll', 'itself', 'where', \"you'd\", 'hers', 'having', 'them', 'below', 'their', 'because', 'or', 'into', 'myself', 'has', 'each', 'own', \"you'll\", 'a', \"mightn't\", 'shouldn', 'under', \"isn't\", 'needn', 'any', 'of', 'her', 'that', \"hadn't\", 'ma', 'before', 'and', \"weren't\", 'after', 'an', 'down', 'hadn', \"mustn't\", 'until', 'then', \"she's\", 'wasn', 'will', \"should've\", 'don', 'yours', 'both', 'now', 'haven', 'over', \"wouldn't\", \"needn't\", 'can', 'for', 'during', 'there', 'mustn', 'with', 'being', 'were', 'couldn', 'yourselves', \"that'll\", \"wasn't\", 'weren', 'do', \"won't\", 've', 'all', \"didn't\", 'too', 'yourself', 'again', \"couldn't\", 'won', 'am', 'at', 't', 'mightn', 'than', 'he', 'you', 'd', 'while', 'some', 'themselves', \"you're\", 'him', 'what', 'other', 'should', 'we', 'this', 'but', 'only', 's', 'about', 'your', 'wouldn', 'on', 'those', 'ourselves', 'once', 'himself', 'they', 'above', 'his', 'isn', 'up', \"doesn't\", 'did', 'the', 'why', 'are', 're', 'ours', 'aren'}\n"
          ]
        }
      ],
      "source": [
        "from nltk.corpus import stopwords\n",
        "stop_words = set(stopwords.words('english'))\n",
        "print(stop_words)"
      ]
    },
    {
      "attachments": {},
      "cell_type": "markdown",
      "id": "08d6b52c",
      "metadata": {},
      "source": [
        "Definimos la función encargada de limpiar los tweets del dataset que eliminará las menciones, hashtags, urls y otros símbolos extraños contenidos en ellos.\n",
        "\n",
        "Además después de pasar por este filtro, los tokenizamos con TweetTokenizer que a diferencia del tokenizador por defecto de NLTK, word_tokenizer, este si mantiene la coherencia en palabras complejas del inglés.\n",
        "\n",
        "Por ejemplo la palabra \"can't\":\n",
        "- Con word_tokenizer-> can't = [\"ca\", \"n't\"]\n",
        "- Con TweetTokenize-> can't = [\"can't\"]"
      ]
    },
    {
      "cell_type": "code",
      "execution_count": 6,
      "id": "b3fa634e",
      "metadata": {},
      "outputs": [],
      "source": [
        "from nltk.corpus import stopwords\n",
        "from nltk.tokenize import TweetTokenizer\n",
        "from nltk.stem import PorterStemmer\n",
        "from string import punctuation\n",
        "\n",
        "def clean_text(original_filename, target_filename, with_punctuation=True):\n",
        "    data = pd.read_csv(original_filename, encoding=\"latin1\")\n",
        "    stop_words = set(stopwords.words('english'))\n",
        "    mention_or_hashtag_characters = [\"@\", \"#\"]\n",
        "\n",
        "    tt = TweetTokenizer() #Tokenizer\n",
        "    ps = PorterStemmer() #Stemmer\n",
        "\n",
        "    for i, row in data.iterrows():\n",
        "        tweet = data.iloc[i][\"text\"]\n",
        "\n",
        "        tweet_tokens = tt.tokenize(tweet) #Tokenizing\n",
        "\n",
        "        filtered_tweet_tokens = [token for token in tweet_tokens if \n",
        "                                    token.lower()[0] not in mention_or_hashtag_characters and #Eliminate mentions, hashtags\n",
        "                                    token.lower() not in stop_words and #Eliminate stop words\n",
        "                                    'http' not in token.lower()] #Eliminate urls\n",
        "\n",
        "        if(not with_punctuation):\n",
        "            filtered_tweet_tokens = [token for token in filtered_tweet_tokens if token not in list(punctuation)]\n",
        "\n",
        "        stemmed_tweet_tokens = [ps.stem(token) for token in filtered_tweet_tokens] #Stemming\n",
        "        \n",
        "        data.loc[i,['text']] = ' '.join(str(token) for token in stemmed_tweet_tokens)\n",
        "\n",
        "    data.to_csv(target_filename, index=False)\n",
        "\n",
        "        \n"
      ]
    },
    {
      "attachments": {},
      "cell_type": "markdown",
      "id": "2fcdd82c",
      "metadata": {},
      "source": [
        "Hacemos 2 llamadas a la función. La primera para el corpus sea texto con signos de puntuación inclusive y otro con texto puramente alfanumérico, esto lo hacemos así para estudiar el posible impacto que puedan tener estos en los modelos finales. "
      ]
    },
    {
      "cell_type": "code",
      "execution_count": 7,
      "id": "aa9a83d3",
      "metadata": {},
      "outputs": [],
      "source": [
        "clean_text('subset_tweet_data.csv', 'tokenized_data.csv')\n",
        "clean_text('subset_tweet_data.csv', 'tokenized_data_no_punctuation.csv', False)"
      ]
    },
    {
      "attachments": {},
      "cell_type": "markdown",
      "id": "de10b66a",
      "metadata": {},
      "source": [
        "El siguiente paso consisitirá en utilizar la librería TextBlob para la clasificacion de los tweets en: Muy Feliz, Contento, Neutro, Molesto, Hater.\n",
        "\n",
        "Para ello primero debemos definir los términos y qué consideraremos como 'Neutro', 'Hater', etc..\n",
        "TextBlob mediante su función 'TextBlob.sentiment' nos hace un análisis de sentimientos de cualquier texto en forma de Objeto Sentiment, un objeto que tiene 2 parámetros:\n",
        "\n",
        "    - Polarity con rango [-1,1] que indica la polaridad del sentimiento del texto siendo -1 un texto muy negativo y 1 muy positivo\n",
        "    \n",
        "    - Subjectivity con rango [0,1] que indica la objetividad del texto siendo 0 muy objetivo y cercano a la realidad y 1 siendo muy subjetivo donde se expresan más las opiniones y sentimientos personales del autor.\n",
        "\n",
        "Teniendo en cuenta las limitaciones del procesamiento de análsis de Textblob definiremos:\n",
        "\n",
        "    - Muy Feliz: Polarity=(0.25,1] Subjectivity=[0-0.5)\n",
        "    - Contento: Polarity=(0.25,1] Subjectivity=[0.5-1]\n",
        "    - Neutro: Polarity=(-0.25,0.25] Subjectivity=any\n",
        "    - Hater: Polarity=[-1,-0.25) Subjectivity=[0-0.5)\n",
        "    - Molesto: Polarity=[-1,-0.25) Subjectivity=[0.5-1]\n",
        "    \n",
        "    Esto lo hacemos así ya que consideramos que la principal diferencia entre \"Muy Feliz\"-\"Contento\" y \"Hater\"-\"Molesto\" es que los primeros son opiniones más subjetivas que las segundas. Y por otra parte consideramos que si el texto es muy objetivo decimos que es neutro ya que no expresa sentimiento ninguno de la persona que escribe el tweet."
      ]
    },
    {
      "cell_type": "code",
      "execution_count": 8,
      "id": "83070bf0",
      "metadata": {},
      "outputs": [],
      "source": [
        "from textblob import TextBlob\n",
        "\n",
        "def classify_tweets(original_filename, target_filename):\n",
        "    data = pd.read_csv(original_filename, encoding=\"latin1\")\n",
        "    dic_count = dict()\n",
        "    for i, row in data.iterrows():\n",
        "        tweet = TextBlob(str(data.iloc[i][\"text\"]))\n",
        "        sentiment = tweet.sentiment\n",
        "        tag = choose_classification(sentiment)\n",
        "        data.loc[i,['tag']] = tag\n",
        "\n",
        "        if tag not in dic_count:\n",
        "            dic_count[tag] = 1\n",
        "        else:\n",
        "            dic_count[tag] = dic_count[tag] + 1\n",
        "\n",
        "    print(dic_count)\n",
        "    data.to_csv(target_filename, index=False)\n",
        "\n",
        "\n",
        "def choose_classification(sentiment):\n",
        "    classification = \"Neutral\"\n",
        "    polarity = sentiment.polarity \n",
        "    subjectivity = sentiment.subjectivity \n",
        "    if polarity < -0.25:\n",
        "        classification = \"Molesto\"\n",
        "        if subjectivity < 0.5:\n",
        "            classification = \"Hater\"\n",
        "    elif polarity > 0.25:\n",
        "        classification = \"Contento\"\n",
        "        if subjectivity < 0.5:\n",
        "            classification = \"Muy Feliz\"\n",
        "    return classification\n"
      ]
    },
    {
      "attachments": {},
      "cell_type": "markdown",
      "id": "a735976a",
      "metadata": {},
      "source": [
        "Probamos la clasificación de los tweets en los 2 datasets uno con signos de puntuación y otro sin ellos. Podemos ver, por los diccionarios contadores calculados, que devuelven resultados muy parecidos."
      ]
    },
    {
      "cell_type": "code",
      "execution_count": 9,
      "id": "0f2afaf0",
      "metadata": {},
      "outputs": [
        {
          "name": "stdout",
          "output_type": "stream",
          "text": [
            "{'Neutral': 3516, 'Molesto': 656, 'Contento': 596, 'Hater': 80, 'Muy Feliz': 152}\n",
            "{'Neutral': 3467, 'Molesto': 667, 'Contento': 611, 'Hater': 83, 'Muy Feliz': 172}\n"
          ]
        }
      ],
      "source": [
        "classify_tweets(\"tokenized_data_no_punctuation.csv\", \"final_dataset.csv\")\n",
        "classify_tweets(\"tokenized_data.csv\", \"final_dataset_punctuation.csv\")"
      ]
    },
    {
      "attachments": {},
      "cell_type": "markdown",
      "id": "e52a9d81",
      "metadata": {},
      "source": [
        "Tras la revisión manual de los dataset, el siguiente paso es la implementación de distintos algoritmos de aprendizaje automático. Tras una investigación previa, decidimos implementar estos 3 tipos de modelo:\n",
        "\n",
        "    - Naive Bayes\n",
        "    - Support Vector Machine (SVM)\n",
        "    - Convolutional Neural Network (CNN)"
      ]
    },
    {
      "attachments": {},
      "cell_type": "markdown",
      "id": "9e783c6d",
      "metadata": {},
      "source": [
        "Implementamos la función que nos convertirá el texto a vectores para su mejor manejo."
      ]
    },
    {
      "cell_type": "code",
      "execution_count": 10,
      "id": "53e10157",
      "metadata": {},
      "outputs": [],
      "source": [
        "# Naiive Bayes a implementar: Gaussian, Multinomial, Complement, Bernoulli\n",
        "from sklearn.feature_extraction.text import TfidfVectorizer\n",
        "from sklearn.preprocessing import LabelEncoder\n",
        "from sklearn.model_selection import train_test_split\n",
        "from sklearn.metrics import classification_report\n",
        "\n",
        "def tfidf_vectorize_data(original_filename):\n",
        "    data = pd.read_csv(original_filename, encoding=\"latin1\")\n",
        "    X = data['text'].values.astype('U')\n",
        "    y = data['tag']\n",
        "    #Vectorize data\n",
        "    tag_encoder = LabelEncoder()\n",
        "    vectorizer = TfidfVectorizer(encoding='latin1', ngram_range=(1,2))\n",
        "    vectorized_X = vectorizer.fit_transform(X)\n",
        "    #Encode tags\n",
        "    encoded_y = tag_encoder.fit_transform(y)\n",
        "    return vectorized_X, encoded_y\n",
        "\n",
        "X, y = tfidf_vectorize_data(\"final_dataset.csv\")"
      ]
    },
    {
      "attachments": {},
      "cell_type": "markdown",
      "id": "7f816b23",
      "metadata": {},
      "source": [
        "# Implementación y estudio de modelos SVM"
      ]
    },
    {
      "attachments": {},
      "cell_type": "markdown",
      "id": "9595d621",
      "metadata": {},
      "source": [
        "En este siguiente paso, vamos a entrenar el algoritmo SVC (support vector classification) con nuestro dataset.\n",
        "\n",
        " Lo primero que haremos es ver como se comporta el modelo en función del hiperparametro C y afecta a la predicción de sentimientos.\n",
        " A mayor valor de C mayor penalización habrá y por tanto se adherirá a los datos del training set más adecuadamente.\n",
        " A menor valor de C menos penalizaciones y más margen de error por lo que será menos preciso, pero así evitamos el overfitting."
      ]
    },
    {
      "cell_type": "code",
      "execution_count": 11,
      "id": "abf81687",
      "metadata": {},
      "outputs": [
        {
          "name": "stdout",
          "output_type": "stream",
          "text": [
            "0.1 69.89999999999999%\n",
            "0.2 70.3%\n",
            "0.3 70.8%\n",
            "0.4 72.3%\n",
            "0.5 73.6%\n",
            "0.6 75.1%\n",
            "0.7 76.2%\n",
            "0.8 77.2%\n",
            "0.9 78.10000000000001%\n",
            "1.0 78.9%\n",
            "1.1 79.5%\n",
            "1.2 80.10000000000001%\n",
            "1.3 80.5%\n",
            "1.4 80.7%\n",
            "1.5 80.80000000000001%\n",
            "1.6 80.7%\n",
            "1.7 80.80000000000001%\n",
            "1.8 80.7%\n",
            "1.9 80.80000000000001%\n"
          ]
        }
      ],
      "source": [
        "from sklearn import svm\n",
        "\n",
        "#Hacemos split de los datos\n",
        "X_train, X_test, y_train, y_test = train_test_split(X, y, test_size=0.2, random_state=True)\n",
        "\n",
        "for i in range(1,20):\n",
        "    decimal = i/10\n",
        "    classification = svm.SVC(kernel='linear', C=float(decimal)).fit(X_train, y_train)\n",
        "    score = classification.score(X_test, y_test)\n",
        "    print(decimal, str(score*100)+\"%\")\n"
      ]
    },
    {
      "attachments": {},
      "cell_type": "markdown",
      "id": "b86dfe7b",
      "metadata": {},
      "source": [
        "Vemos que efectivamente con mayor valor del hiperparametro C más preciso es nuestro modeloa aunque vemos que los valores de exactitud se estancan alrededor de un 80.7% cuando C>=1.4 por lo tanto a mayor valor de C una vez alcanzado el valor 1.4, este no mejora el rendimiento global del modelo.\n",
        "\n",
        "Aún así, corremos el riesgo de overfitting del modelo a nuestro dataset. Para solucionarlo, importamos de sklearn la herramienta cross_val_score para hacer validación cruzada del dataset que se encargará de dividir el dataset en k pliegues y utilizar distintas partes del dataset como trainingSet y testSet.\n",
        "\n",
        "Este proceso lo aplicaremos a 4 tipos que tiene el modelo svc: lineal, polinomial, sigmoide y gaussiano"
      ]
    },
    {
      "cell_type": "code",
      "execution_count": 12,
      "id": "ba8d5c34",
      "metadata": {},
      "outputs": [
        {
          "name": "stdout",
          "output_type": "stream",
          "text": [
            "{'linear': array([0.82 , 0.805, 0.81 , 0.795, 0.801]), 'polynomial': array([0.706, 0.708, 0.71 , 0.706, 0.708]), 'gaussian': array([0.751, 0.741, 0.754, 0.731, 0.738]), 'sigmoid': array([0.828, 0.811, 0.813, 0.794, 0.8  ])}\n"
          ]
        }
      ],
      "source": [
        "from sklearn.model_selection import cross_val_score\n",
        "\n",
        "X, y = tfidf_vectorize_data(\"final_dataset.csv\")\n",
        "#linear, poly, rbf(gaussian), sigmoid                    #same random state (deterministic result)\n",
        "classification_svc_linear = svm.SVC(kernel='linear', C=1.5, random_state=17)\n",
        "classification_svc_polynomial = svm.SVC(kernel='poly', C=1.5, random_state=17)\n",
        "classification_svc_gaussian = svm.SVC(kernel='rbf', C=1.5, random_state=17)\n",
        "classification_svc_sigmoid = svm.SVC(kernel='sigmoid', C=1.5, random_state=17)\n",
        "\n",
        "svc_scores = dict()\n",
        "\n",
        "score = cross_val_score(classification_svc_linear, X, y, cv=5)\n",
        "svc_scores['linear'] = score\n",
        "\n",
        "score = cross_val_score(classification_svc_polynomial, X, y, cv=5)\n",
        "svc_scores['polynomial'] = score\n",
        "\n",
        "score = cross_val_score(classification_svc_gaussian, X, y, cv=5)\n",
        "svc_scores['gaussian'] = score\n",
        "\n",
        "score = cross_val_score(classification_svc_sigmoid, X, y, cv=5)\n",
        "svc_scores['sigmoid'] = score\n",
        "\n",
        "print(svc_scores)\n",
        "\n"
      ]
    },
    {
      "attachments": {},
      "cell_type": "markdown",
      "id": "065d2ba1",
      "metadata": {},
      "source": [
        "Podemos sacar bastantes conclusiones de aqui, pero tras investigar algo mas en la libreria sklearn encontramos otra funcion: cross_validate que permite varias metricas a evaluar. Por lo tanto aplicamos esta nueva función.\n",
        "\n",
        "Usaremos scoring_metrics para almacenar las métricas que queremos evaluar de los modelos como: accuracy, precision, recall y f1\n",
        "\n",
        "Usamos Macro-averaging, así calcularemos la precision de cada una de las posibles clasificaciones y les dará el mismo peso, de esta forma mitigaremos el posible efecto que pueda tener el que haya muchos ejemplos del dataset con una misma clase y por tanto solo darnos la precision de una clasificación en concreto."
      ]
    },
    {
      "cell_type": "code",
      "execution_count": 13,
      "id": "202c296e",
      "metadata": {},
      "outputs": [],
      "source": [
        "from sklearn.model_selection import cross_validate\n",
        "from sklearn.metrics import make_scorer, accuracy_score, precision_score, recall_score, f1_score\n",
        "\n",
        "X, y = tfidf_vectorize_data(\"final_dataset.csv\")\n",
        "\n",
        "svc_scores = dict()\n",
        "\n",
        "#Creamos scoring_metrics para decirle a cross-validate las metricas que nos interesa saber de nuestros modelos\n",
        "scoring_metrics = {'accuracy': make_scorer(accuracy_score),\n",
        "           'precision': make_scorer(precision_score, average='macro', zero_division=\"warn\"), #zero_division-> precision=TP/TP+FP, handles when there are no TP.\n",
        "           'recall': make_scorer(recall_score, average='macro'),                             #elegimos warn para hacernos saber si el modelo no detecta TP.\n",
        "           'f1': make_scorer(f1_score, average='macro')}                                    \n"
      ]
    },
    {
      "attachments": {},
      "cell_type": "markdown",
      "id": "b35521fd",
      "metadata": {},
      "source": [
        "Aplicamos el metodo cross_validate al modelo SVC lineal."
      ]
    },
    {
      "cell_type": "code",
      "execution_count": 14,
      "id": "b4f9f8b1",
      "metadata": {},
      "outputs": [
        {
          "name": "stderr",
          "output_type": "stream",
          "text": [
            "c:\\Users\\juanq\\anaconda3\\lib\\site-packages\\sklearn\\metrics\\_classification.py:1344: UndefinedMetricWarning: Precision is ill-defined and being set to 0.0 in labels with no predicted samples. Use `zero_division` parameter to control this behavior.\n",
            "  _warn_prf(average, modifier, msg_start, len(result))\n"
          ]
        },
        {
          "name": "stdout",
          "output_type": "stream",
          "text": [
            "{'fit_time': array([3.12904882, 2.61070681, 2.89643049, 2.57256627, 2.5394094 ]), 'score_time': array([0.27605176, 0.31648421, 0.27977729, 0.27552319, 0.27261996]), 'test_accuracy': array([0.796, 0.788, 0.794, 0.776, 0.782]), 'test_precision': array([0.69147738, 0.88540105, 0.85142407, 0.89394457, 0.68687799]), 'test_recall': array([0.36899897, 0.38923454, 0.37806472, 0.35877088, 0.35827486]), 'test_f1': array([0.40887387, 0.45747389, 0.43759967, 0.41815365, 0.41152576])}\n"
          ]
        },
        {
          "name": "stderr",
          "output_type": "stream",
          "text": [
            "c:\\Users\\juanq\\anaconda3\\lib\\site-packages\\sklearn\\metrics\\_classification.py:1344: UndefinedMetricWarning: Precision is ill-defined and being set to 0.0 in labels with no predicted samples. Use `zero_division` parameter to control this behavior.\n",
            "  _warn_prf(average, modifier, msg_start, len(result))\n"
          ]
        }
      ],
      "source": [
        "classification_svc_linear = svm.SVC(kernel='linear', C=1, random_state=17)\n",
        "\n",
        "score = cross_validate(classification_svc_linear, X, y, cv=5, scoring=scoring_metrics)\n",
        "svc_scores['linear'] = score\n",
        "print(score)"
      ]
    },
    {
      "attachments": {},
      "cell_type": "markdown",
      "id": "5514e03b",
      "metadata": {},
      "source": [
        "Ahora obtenemos más métricas que con el método anterior y además nos damos cuenta de otro dato y es que podemos ver que el modelo SVC lineal no detecta bien los True Positive (TP) esto se debe a que al intentar hacer el calculo de precisión siendo tal que:\n",
        "\n",
        "precision = TP/TP+FP\n",
        "\n",
        "Nos arroja el error 'zero_division'. Esto solo puede darse si el denominador es 0, por tanto, TP = 0. En este caso concreto, el error se muestra 2 veces por pantalla. Es decir, hay 2 pliegues en cuales el modelo no es capaz de identificar bien los True Positive (TP)."
      ]
    },
    {
      "attachments": {},
      "cell_type": "markdown",
      "id": "01c646ca",
      "metadata": {},
      "source": [
        "Nosotros queremos que nuestro modelo sea capaz de detectar los TP así que subimos el hiperparametro C a C=1.5"
      ]
    },
    {
      "cell_type": "code",
      "execution_count": 15,
      "id": "0ba6defa",
      "metadata": {},
      "outputs": [
        {
          "name": "stderr",
          "output_type": "stream",
          "text": [
            "c:\\Users\\juanq\\anaconda3\\lib\\site-packages\\sklearn\\metrics\\_classification.py:1344: UndefinedMetricWarning: Precision is ill-defined and being set to 0.0 in labels with no predicted samples. Use `zero_division` parameter to control this behavior.\n",
            "  _warn_prf(average, modifier, msg_start, len(result))\n"
          ]
        }
      ],
      "source": [
        "#Linear\n",
        "classification_svc_linear = svm.SVC(kernel='linear', C=1.5, random_state=17)\n",
        "\n",
        "score = cross_validate(classification_svc_linear, X, y, cv=5, scoring=scoring_metrics)\n",
        "svc_scores['linear'] = score"
      ]
    },
    {
      "attachments": {},
      "cell_type": "markdown",
      "id": "1a4462a4",
      "metadata": {},
      "source": [
        "Ahora el error solo se aparece en 1 pliegue, lo que mantiene la coherencia con lo visto anteriormente de mayor precisión a mayor valor de C en nuestro modelo.\n",
        "\n",
        "En las siguientes casillas calcularemos las métricas de los distintos tipos de SVC que hay como lineal, polinomial, gausiano y sigmoide usando C=1.5 ya que hemos demostrado que es un valor que optimiza el rendimiento del modelo."
      ]
    },
    {
      "cell_type": "code",
      "execution_count": 16,
      "id": "b7f3ca6b",
      "metadata": {},
      "outputs": [
        {
          "name": "stderr",
          "output_type": "stream",
          "text": [
            "c:\\Users\\juanq\\anaconda3\\lib\\site-packages\\sklearn\\metrics\\_classification.py:1344: UndefinedMetricWarning: Precision is ill-defined and being set to 0.0 in labels with no predicted samples. Use `zero_division` parameter to control this behavior.\n",
            "  _warn_prf(average, modifier, msg_start, len(result))\n",
            "c:\\Users\\juanq\\anaconda3\\lib\\site-packages\\sklearn\\metrics\\_classification.py:1344: UndefinedMetricWarning: Precision is ill-defined and being set to 0.0 in labels with no predicted samples. Use `zero_division` parameter to control this behavior.\n",
            "  _warn_prf(average, modifier, msg_start, len(result))\n",
            "c:\\Users\\juanq\\anaconda3\\lib\\site-packages\\sklearn\\metrics\\_classification.py:1344: UndefinedMetricWarning: Precision is ill-defined and being set to 0.0 in labels with no predicted samples. Use `zero_division` parameter to control this behavior.\n",
            "  _warn_prf(average, modifier, msg_start, len(result))\n",
            "c:\\Users\\juanq\\anaconda3\\lib\\site-packages\\sklearn\\metrics\\_classification.py:1344: UndefinedMetricWarning: Precision is ill-defined and being set to 0.0 in labels with no predicted samples. Use `zero_division` parameter to control this behavior.\n",
            "  _warn_prf(average, modifier, msg_start, len(result))\n",
            "c:\\Users\\juanq\\anaconda3\\lib\\site-packages\\sklearn\\metrics\\_classification.py:1344: UndefinedMetricWarning: Precision is ill-defined and being set to 0.0 in labels with no predicted samples. Use `zero_division` parameter to control this behavior.\n",
            "  _warn_prf(average, modifier, msg_start, len(result))\n"
          ]
        }
      ],
      "source": [
        "#Polynomial\n",
        "classification_svc_polynomial = svm.SVC(kernel='poly', C=1.5, random_state=17)\n",
        "\n",
        "score = cross_validate(classification_svc_polynomial, X, y, cv=5, scoring=scoring_metrics)\n",
        "svc_scores['poly'] = score"
      ]
    },
    {
      "cell_type": "code",
      "execution_count": 17,
      "id": "25723512",
      "metadata": {},
      "outputs": [
        {
          "name": "stderr",
          "output_type": "stream",
          "text": [
            "c:\\Users\\juanq\\anaconda3\\lib\\site-packages\\sklearn\\metrics\\_classification.py:1344: UndefinedMetricWarning: Precision is ill-defined and being set to 0.0 in labels with no predicted samples. Use `zero_division` parameter to control this behavior.\n",
            "  _warn_prf(average, modifier, msg_start, len(result))\n",
            "c:\\Users\\juanq\\anaconda3\\lib\\site-packages\\sklearn\\metrics\\_classification.py:1344: UndefinedMetricWarning: Precision is ill-defined and being set to 0.0 in labels with no predicted samples. Use `zero_division` parameter to control this behavior.\n",
            "  _warn_prf(average, modifier, msg_start, len(result))\n",
            "c:\\Users\\juanq\\anaconda3\\lib\\site-packages\\sklearn\\metrics\\_classification.py:1344: UndefinedMetricWarning: Precision is ill-defined and being set to 0.0 in labels with no predicted samples. Use `zero_division` parameter to control this behavior.\n",
            "  _warn_prf(average, modifier, msg_start, len(result))\n",
            "c:\\Users\\juanq\\anaconda3\\lib\\site-packages\\sklearn\\metrics\\_classification.py:1344: UndefinedMetricWarning: Precision is ill-defined and being set to 0.0 in labels with no predicted samples. Use `zero_division` parameter to control this behavior.\n",
            "  _warn_prf(average, modifier, msg_start, len(result))\n",
            "c:\\Users\\juanq\\anaconda3\\lib\\site-packages\\sklearn\\metrics\\_classification.py:1344: UndefinedMetricWarning: Precision is ill-defined and being set to 0.0 in labels with no predicted samples. Use `zero_division` parameter to control this behavior.\n",
            "  _warn_prf(average, modifier, msg_start, len(result))\n"
          ]
        }
      ],
      "source": [
        "#Gaussian\n",
        "classification_svc_gaussian = svm.SVC(kernel='rbf', C=1.5, random_state=17)\n",
        "\n",
        "score = cross_validate(classification_svc_gaussian, X, y, cv=5, scoring=scoring_metrics)\n",
        "svc_scores['gaussian'] = score\n"
      ]
    },
    {
      "cell_type": "code",
      "execution_count": 18,
      "id": "9e7cd50a",
      "metadata": {},
      "outputs": [
        {
          "name": "stderr",
          "output_type": "stream",
          "text": [
            "c:\\Users\\juanq\\anaconda3\\lib\\site-packages\\sklearn\\metrics\\_classification.py:1344: UndefinedMetricWarning: Precision is ill-defined and being set to 0.0 in labels with no predicted samples. Use `zero_division` parameter to control this behavior.\n",
            "  _warn_prf(average, modifier, msg_start, len(result))\n"
          ]
        }
      ],
      "source": [
        "#Sigmoid\n",
        "classification_svc_sigmoid = svm.SVC(kernel='sigmoid', C=1.5, random_state=17)\n",
        "\n",
        "score = cross_validate(classification_svc_sigmoid, X, y, cv=5, scoring=scoring_metrics)\n",
        "svc_scores['sigmoid'] = score"
      ]
    },
    {
      "attachments": {},
      "cell_type": "markdown",
      "id": "d6283d45",
      "metadata": {},
      "source": [
        "Viendo los mensajes de error, podemos intuir que el gaussiano y polinomial se comportan mucho peor que los modelos lineal y sigmoide al tener los primeros problemas detectando los TP en los 5 pliegues mientras que los segundos solo en 1.\n",
        "\n",
        "A continuación, vamos a representar las métricas obtenidas en un gráfico de barras para su mejor estudio."
      ]
    },
    {
      "cell_type": "code",
      "execution_count": 19,
      "id": "771d1149",
      "metadata": {},
      "outputs": [
        {
          "data": {
            "image/png": "[encoded data removed]",
            "text/plain": [
              "<Figure size 640x480 with 1 Axes>"
            ]
          },
          "metadata": {},
          "output_type": "display_data"
        }
      ],
      "source": [
        "import numpy as np\n",
        "import matplotlib.pyplot as plt\n",
        "\n",
        "def calculate_mean_metrics(metrics_dict):\n",
        "    metrics = []\n",
        "    for x in metrics_dict.items():\n",
        "        metric_values = x[1]\n",
        "        metric_mean = np.mean(metric_values)\n",
        "        metrics.append(metric_mean)\n",
        "    return metrics\n",
        "\n",
        "score_linear_means = calculate_mean_metrics(svc_scores['linear'])\n",
        "score_sigmoid_means = calculate_mean_metrics(svc_scores['sigmoid'])\n",
        "score_gaussian_means = calculate_mean_metrics(svc_scores['gaussian'])\n",
        "score_poly_means = calculate_mean_metrics(svc_scores['poly'])\n",
        "\n",
        "#Calculamos el grafico de barras para ver visualmente como se comparan las métricas de cada modelo.\n",
        "metric_categories = ['fit-time', 'score-time', 'accuracy', 'precision', 'recall', 'f1']\n",
        "N = len(metric_categories)\n",
        "fig, ax = plt.subplots()\n",
        "space = 1.5\n",
        "ind = np.arange(0,N*space, space) \n",
        "width_bar = 0.25\n",
        "\n",
        "rect1 = ax.bar(ind-0.50, score_linear_means, color = 'b', width = width_bar, label='linear')\n",
        "rect2 = ax.bar(ind-0.25, score_sigmoid_means, color = 'g', width = width_bar, label='sigmoid')\n",
        "rect3 = ax.bar(ind+0, score_gaussian_means, color = 'r', width = width_bar, label='gaussian')\n",
        "rect4 = ax.bar(ind+0.25, score_poly_means, color = 'y', width = width_bar, label='polynomical')\n",
        "\n",
        "ax.set_xlabel('Metric')\n",
        "ax.set_ylabel('Value')\n",
        "ax.set_title('Metric comparison')\n",
        "\n",
        "ax.set_xticks(ind)\n",
        "ax.set_xticklabels(metric_categories)\n",
        "ax.legend()\n",
        "plt.show()\n",
        "\n",
        "\n"
      ]
    },
    {
      "attachments": {},
      "cell_type": "markdown",
      "id": "506591c0",
      "metadata": {},
      "source": [
        "Como intuíamos antes constante vemos que hay 2 modelos que sobresalen al identificar mejor los TP que el resto, y estos son:\n",
        "\n",
        "    - Sigmoide y Lineal\n",
        "\n",
        "No solo son más rápidos que los otros dos modelos, sino que además se ve una clara mejora en el rendimiento de las métricas como 'accuracy', 'precision', 'recall, y 'f1'"
      ]
    },
    {
      "attachments": {},
      "cell_type": "markdown",
      "id": "b44dcb92",
      "metadata": {},
      "source": [
        "Aislaremos las métricas de estos 2 modelos para sacar una conclusión final."
      ]
    },
    {
      "cell_type": "code",
      "execution_count": 20,
      "id": "6976a13c",
      "metadata": {},
      "outputs": [
        {
          "data": {
            "image/png": "[encoded data removed]",
            "text/plain": [
              "<Figure size 640x480 with 1 Axes>"
            ]
          },
          "metadata": {},
          "output_type": "display_data"
        }
      ],
      "source": [
        "#Calculamos el grafico de barras para ver visualmente como se comparan las métricas de cada modelo.\n",
        "metric_categories = ['accuracy', 'precision', 'recall', 'f1']\n",
        "N = len(metric_categories)\n",
        "fig, ax = plt.subplots()\n",
        "space = 1.5\n",
        "ind = np.arange(0,N*space, space) \n",
        "width_bar = 0.25\n",
        "\n",
        "rect1 = ax.bar(ind-0.12, score_linear_means[2:], color = 'b', width = width_bar, label='linear')\n",
        "rect2 = ax.bar(ind+0.12, score_sigmoid_means[2:], color = 'g', width = width_bar, label='sigmoid')\n",
        "\n",
        "ax.set_xlabel('Metric')\n",
        "ax.set_ylabel('Value')\n",
        "ax.set_title('Metric comparison')\n",
        "\n",
        "ax.set_xticks(ind)\n",
        "ax.set_xticklabels(metric_categories)\n",
        "ax.legend()\n",
        "plt.show()"
      ]
    },
    {
      "attachments": {},
      "cell_type": "markdown",
      "id": "fb7dc01d",
      "metadata": {},
      "source": [
        "Observamos que ambos modelos se comportan de forma muy similar, rondando los mismos valores en todas las métricas, aunque se aprecia una leve mejora de los resultados con el modelo sigmoide y es más rápido respecto al lineal.\n",
        "\n",
        "En conclusión, tras evaluar los distintos tipos de modelo svm.SVC que nos proporciona sklearn el modelo que mejor se adapta y nos arroja mejores resultados con nuestro conjunto de pruebas es el modelo sigmoide al tener el mejor rendimiento y ser más rápido que el resto."
      ]
    },
    {
      "attachments": {},
      "cell_type": "markdown",
      "id": "e32ce0ee",
      "metadata": {},
      "source": [
        "# Implementación y estudio de modelos Naive Bayes"
      ]
    },
    {
      "attachments": {},
      "cell_type": "markdown",
      "id": "bc53f6d5",
      "metadata": {},
      "source": [
        "Repetimos el mismo proceso que con SVM, esta vez con los modelos de naive bayes disponibles."
      ]
    },
    {
      "cell_type": "code",
      "execution_count": 21,
      "id": "3b756c31",
      "metadata": {},
      "outputs": [
        {
          "name": "stdout",
          "output_type": "stream",
          "text": [
            "{'fit_time': array([0.00601101, 0.00997543, 0.00993896, 0.00698996, 0.00498605]), 'score_time': array([0.00498819, 0.00399303, 0.00398922, 0.00597501, 0.00798249]), 'test_accuracy': array([0.704, 0.703, 0.704, 0.703, 0.703]), 'test_precision': array([0.1408    , 0.1406    , 0.34074074, 0.1406    , 0.1406    ]), 'test_recall': array([0.2       , 0.2       , 0.20152672, 0.2       , 0.2       ]), 'test_f1': array([0.16525822, 0.16512038, 0.16824769, 0.16512038, 0.16512038])}\n"
          ]
        },
        {
          "name": "stderr",
          "output_type": "stream",
          "text": [
            "c:\\Users\\juanq\\anaconda3\\lib\\site-packages\\sklearn\\metrics\\_classification.py:1344: UndefinedMetricWarning: Precision is ill-defined and being set to 0.0 in labels with no predicted samples. Use `zero_division` parameter to control this behavior.\n",
            "  _warn_prf(average, modifier, msg_start, len(result))\n",
            "c:\\Users\\juanq\\anaconda3\\lib\\site-packages\\sklearn\\metrics\\_classification.py:1344: UndefinedMetricWarning: Precision is ill-defined and being set to 0.0 in labels with no predicted samples. Use `zero_division` parameter to control this behavior.\n",
            "  _warn_prf(average, modifier, msg_start, len(result))\n",
            "c:\\Users\\juanq\\anaconda3\\lib\\site-packages\\sklearn\\metrics\\_classification.py:1344: UndefinedMetricWarning: Precision is ill-defined and being set to 0.0 in labels with no predicted samples. Use `zero_division` parameter to control this behavior.\n",
            "  _warn_prf(average, modifier, msg_start, len(result))\n",
            "c:\\Users\\juanq\\anaconda3\\lib\\site-packages\\sklearn\\metrics\\_classification.py:1344: UndefinedMetricWarning: Precision is ill-defined and being set to 0.0 in labels with no predicted samples. Use `zero_division` parameter to control this behavior.\n",
            "  _warn_prf(average, modifier, msg_start, len(result))\n",
            "c:\\Users\\juanq\\anaconda3\\lib\\site-packages\\sklearn\\metrics\\_classification.py:1344: UndefinedMetricWarning: Precision is ill-defined and being set to 0.0 in labels with no predicted samples. Use `zero_division` parameter to control this behavior.\n",
            "  _warn_prf(average, modifier, msg_start, len(result))\n"
          ]
        }
      ],
      "source": [
        "from sklearn.naive_bayes import *\n",
        "\n",
        "X, y = tfidf_vectorize_data(\"final_dataset.csv\")\n",
        "\n",
        "nb_scores = dict()\n",
        "\n",
        "multinomial_nb = MultinomialNB()\n",
        "\n",
        "#cross validate uses k=5 by default   \n",
        "results_multinomial = cross_validate(multinomial_nb, X, y, cv=5, scoring=scoring_metrics)\n",
        "nb_scores['multinomial'] = results_multinomial\n",
        "print(results_multinomial)\n"
      ]
    },
    {
      "cell_type": "code",
      "execution_count": 22,
      "id": "c4a84657",
      "metadata": {},
      "outputs": [
        {
          "name": "stdout",
          "output_type": "stream",
          "text": [
            "{'fit_time': array([0.00601101, 0.00997543, 0.00993896, 0.00698996, 0.00498605]), 'score_time': array([0.00498819, 0.00399303, 0.00398922, 0.00597501, 0.00798249]), 'test_accuracy': array([0.704, 0.703, 0.704, 0.703, 0.703]), 'test_precision': array([0.1408    , 0.1406    , 0.34074074, 0.1406    , 0.1406    ]), 'test_recall': array([0.2       , 0.2       , 0.20152672, 0.2       , 0.2       ]), 'test_f1': array([0.16525822, 0.16512038, 0.16824769, 0.16512038, 0.16512038])}\n"
          ]
        }
      ],
      "source": [
        "gaussian_nb = GaussianNB()           #cambio de formato necesario para el metodo.\n",
        "results_gaussian = cross_validate(gaussian_nb, X.toarray(), y, cv=5, scoring=scoring_metrics)\n",
        "nb_scores['gaussian'] = results_gaussian\n",
        "print(results_multinomial)"
      ]
    },
    {
      "cell_type": "code",
      "execution_count": 23,
      "id": "d9809c02",
      "metadata": {},
      "outputs": [
        {
          "name": "stdout",
          "output_type": "stream",
          "text": [
            "{'fit_time': array([0.01859164, 0.01708126, 0.03079796, 0.02014565, 0.02015781]), 'score_time': array([0.00506091, 0.01254201, 0.01271582, 0.01560545, 0.01583362]), 'test_accuracy': array([0.71 , 0.668, 0.678, 0.695, 0.699]), 'test_precision': array([0.4699758 , 0.42375415, 0.4415106 , 0.46177337, 0.45362156]), 'test_recall': array([0.4923981 , 0.43991872, 0.44152668, 0.46857685, 0.41759859]), 'test_f1': array([0.46936619, 0.41848379, 0.42778499, 0.44929257, 0.42653701])}\n"
          ]
        }
      ],
      "source": [
        "complement_nb = ComplementNB()\n",
        "results_complement = cross_validate(complement_nb, X, y, cv=5, scoring=scoring_metrics)\n",
        "nb_scores['complement'] = results_complement\n",
        "print(results_complement)"
      ]
    },
    {
      "cell_type": "code",
      "execution_count": 24,
      "id": "e06e5c17",
      "metadata": {},
      "outputs": [
        {
          "name": "stderr",
          "output_type": "stream",
          "text": [
            "c:\\Users\\juanq\\anaconda3\\lib\\site-packages\\sklearn\\metrics\\_classification.py:1344: UndefinedMetricWarning: Precision is ill-defined and being set to 0.0 in labels with no predicted samples. Use `zero_division` parameter to control this behavior.\n",
            "  _warn_prf(average, modifier, msg_start, len(result))\n",
            "c:\\Users\\juanq\\anaconda3\\lib\\site-packages\\sklearn\\metrics\\_classification.py:1344: UndefinedMetricWarning: Precision is ill-defined and being set to 0.0 in labels with no predicted samples. Use `zero_division` parameter to control this behavior.\n",
            "  _warn_prf(average, modifier, msg_start, len(result))\n",
            "c:\\Users\\juanq\\anaconda3\\lib\\site-packages\\sklearn\\metrics\\_classification.py:1344: UndefinedMetricWarning: Precision is ill-defined and being set to 0.0 in labels with no predicted samples. Use `zero_division` parameter to control this behavior.\n",
            "  _warn_prf(average, modifier, msg_start, len(result))\n",
            "c:\\Users\\juanq\\anaconda3\\lib\\site-packages\\sklearn\\metrics\\_classification.py:1344: UndefinedMetricWarning: Precision is ill-defined and being set to 0.0 in labels with no predicted samples. Use `zero_division` parameter to control this behavior.\n",
            "  _warn_prf(average, modifier, msg_start, len(result))\n",
            "c:\\Users\\juanq\\anaconda3\\lib\\site-packages\\sklearn\\metrics\\_classification.py:1344: UndefinedMetricWarning: Precision is ill-defined and being set to 0.0 in labels with no predicted samples. Use `zero_division` parameter to control this behavior.\n",
            "  _warn_prf(average, modifier, msg_start, len(result))\n"
          ]
        },
        {
          "name": "stdout",
          "output_type": "stream",
          "text": [
            "{'fit_time': array([0.02596688, 0.02170086, 0.02283549, 0.0192523 , 0.01949716]), 'score_time': array([0.01813388, 0.02584434, 0.02958322, 0.0427177 , 0.01993728]), 'test_accuracy': array([0.704, 0.703, 0.703, 0.703, 0.703]), 'test_precision': array([0.1408, 0.1406, 0.1406, 0.1406, 0.1406]), 'test_recall': array([0.2, 0.2, 0.2, 0.2, 0.2]), 'test_f1': array([0.16525822, 0.16512038, 0.16512038, 0.16512038, 0.16512038])}\n"
          ]
        }
      ],
      "source": [
        "bernoulli_nb = BernoulliNB()\n",
        "results_bernoulli = cross_validate(bernoulli_nb, X, y, cv=5, scoring=scoring_metrics)\n",
        "nb_scores['bernoulli'] = results_bernoulli\n",
        "\n",
        "print(results_bernoulli)"
      ]
    },
    {
      "attachments": {},
      "cell_type": "markdown",
      "id": "43912f96",
      "metadata": {},
      "source": []
    },
    {
      "cell_type": "code",
      "execution_count": 25,
      "id": "96aab4e8",
      "metadata": {},
      "outputs": [
        {
          "data": {
            "image/png": "[encoded data removed]",
            "text/plain": [
              "<Figure size 640x480 with 1 Axes>"
            ]
          },
          "metadata": {},
          "output_type": "display_data"
        }
      ],
      "source": [
        "score_multinomial_means = calculate_mean_metrics(nb_scores['multinomial'])\n",
        "score_complement_means = calculate_mean_metrics(nb_scores['complement'])\n",
        "score_gaussian_means = calculate_mean_metrics(nb_scores['gaussian'])\n",
        "score_bernoulli_means = calculate_mean_metrics(nb_scores['bernoulli'])\n",
        "\n",
        "#Calculamos el grafico de barras para ver visualmente como se comparan las métricas de cada modelo.\n",
        "metric_categories = ['fit-time', 'score-time', 'accuracy', 'precision', 'recall', 'f1']\n",
        "N = len(metric_categories)\n",
        "fig, ax = plt.subplots()\n",
        "space = 1.5\n",
        "ind = np.arange(0,N*space, space) \n",
        "width_bar = 0.25\n",
        "\n",
        "rect1 = ax.bar(ind-0.50, score_multinomial_means, color = 'b', width = width_bar, label='multinomial')\n",
        "rect2 = ax.bar(ind-0.25, score_complement_means, color = 'g', width = width_bar, label='complement')\n",
        "rect3 = ax.bar(ind+0, score_gaussian_means, color = 'r', width = width_bar, label='gaussian')\n",
        "rect4 = ax.bar(ind+0.25, score_bernoulli_means, color = 'y', width = width_bar, label='bernoulli')\n",
        "\n",
        "ax.set_xlabel('Metric')\n",
        "ax.set_ylabel('Value')\n",
        "ax.set_title('Metric comparison')\n",
        "\n",
        "ax.set_xticks(ind)\n",
        "ax.set_xticklabels(metric_categories)\n",
        "ax.legend()\n",
        "plt.show()"
      ]
    },
    {
      "cell_type": "code",
      "execution_count": 28,
      "id": "75179600",
      "metadata": {},
      "outputs": [
        {
          "data": {
            "image/png": "[encoded data removed]",
            "text/plain": [
              "<Figure size 640x480 with 1 Axes>"
            ]
          },
          "metadata": {},
          "output_type": "display_data"
        }
      ],
      "source": [
        "\n",
        "#Calculamos el grafico de barras para ver visualmente como se comparan las métricas de cada modelo.\n",
        "metric_categories = ['accuracy', 'precision', 'recall', 'f1']\n",
        "N = len(metric_categories)\n",
        "fig, ax = plt.subplots()\n",
        "space = 1.5\n",
        "ind = np.arange(0,N*space, space) \n",
        "width_bar = 0.25\n",
        "\n",
        "rect1 = ax.bar(ind-0.50, score_multinomial_means[2:], color = 'b', width = width_bar, label='multinomial')\n",
        "rect2 = ax.bar(ind-0.25, score_complement_means[2:], color = 'g', width = width_bar, label='complement')\n",
        "rect3 = ax.bar(ind+0, score_gaussian_means[2:], color = 'r', width = width_bar, label='gaussian')\n",
        "rect4 = ax.bar(ind+0.25, score_bernoulli_means[2:], color = 'y', width = width_bar, label='bernoulli')\n",
        "\n",
        "ax.set_xlabel('Metric')\n",
        "ax.set_ylabel('Value')\n",
        "ax.set_title('Metric comparison')\n",
        "\n",
        "ax.set_xticks(ind)\n",
        "ax.set_xticklabels(metric_categories)\n",
        "ax.legend()\n",
        "plt.show()"
      ]
    },
    {
      "attachments": {},
      "cell_type": "markdown",
      "id": "e4efa95a",
      "metadata": {},
      "source": [
        "# Neural Network"
      ]
    },
    {
      "cell_type": "code",
      "execution_count": 45,
      "id": "87a5e486",
      "metadata": {},
      "outputs": [],
      "source": [
        "from sklearn.neural_network import MLPClassifier\n",
        "from sklearn.preprocessing import StandardScaler  \n",
        "\n",
        "scaler = StandardScaler(with_mean = False)  \n",
        "\n",
        "scaler.fit(X_train)  \n",
        "X_train = scaler.transform(X_train)\n",
        "X_test = scaler.transform(X_test)"
      ]
    },
    {
      "attachments": {},
      "cell_type": "markdown",
      "id": "0e625361",
      "metadata": {},
      "source": [
        "Probamos con distintos solver para MLPClassifier, manteniendo el resto constante"
      ]
    },
    {
      "cell_type": "code",
      "execution_count": 40,
      "id": "b916455e",
      "metadata": {},
      "outputs": [
        {
          "name": "stderr",
          "output_type": "stream",
          "text": [
            "c:\\Users\\juanq\\anaconda3\\lib\\site-packages\\sklearn\\neural_network\\_multilayer_perceptron.py:684: ConvergenceWarning: Stochastic Optimizer: Maximum iterations (10) reached and the optimization hasn't converged yet.\n",
            "  warnings.warn(\n",
            "c:\\Users\\juanq\\anaconda3\\lib\\site-packages\\sklearn\\neural_network\\_multilayer_perceptron.py:684: ConvergenceWarning: Stochastic Optimizer: Maximum iterations (10) reached and the optimization hasn't converged yet.\n",
            "  warnings.warn(\n",
            "c:\\Users\\juanq\\anaconda3\\lib\\site-packages\\sklearn\\neural_network\\_multilayer_perceptron.py:541: ConvergenceWarning: lbfgs failed to converge (status=1):\n",
            "STOP: TOTAL NO. of ITERATIONS REACHED LIMIT.\n",
            "\n",
            "Increase the number of iterations (max_iter) or scale the data as shown in:\n",
            "    https://scikit-learn.org/stable/modules/preprocessing.html\n",
            "  self.n_iter_ = _check_optimize_result(\"lbfgs\", opt_res, self.max_iter)\n"
          ]
        },
        {
          "data": {
            "text/html": [
              "<style>#sk-container-id-1 {color: black;background-color: white;}#sk-container-id-1 pre{padding: 0;}#sk-container-id-1 div.sk-toggleable {background-color: white;}#sk-container-id-1 label.sk-toggleable__label {cursor: pointer;display: block;width: 100%;margin-bottom: 0;padding: 0.3em;box-sizing: border-box;text-align: center;}#sk-container-id-1 label.sk-toggleable__label-arrow:before {content: \"▸\";float: left;margin-right: 0.25em;color: #696969;}#sk-container-id-1 label.sk-toggleable__label-arrow:hover:before {color: black;}#sk-container-id-1 div.sk-estimator:hover label.sk-toggleable__label-arrow:before {color: black;}#sk-container-id-1 div.sk-toggleable__content {max-height: 0;max-width: 0;overflow: hidden;text-align: left;background-color: #f0f8ff;}#sk-container-id-1 div.sk-toggleable__content pre {margin: 0.2em;color: black;border-radius: 0.25em;background-color: #f0f8ff;}#sk-container-id-1 input.sk-toggleable__control:checked~div.sk-toggleable__content {max-height: 200px;max-width: 100%;overflow: auto;}#sk-container-id-1 input.sk-toggleable__control:checked~label.sk-toggleable__label-arrow:before {content: \"▾\";}#sk-container-id-1 div.sk-estimator input.sk-toggleable__control:checked~label.sk-toggleable__label {background-color: #d4ebff;}#sk-container-id-1 div.sk-label input.sk-toggleable__control:checked~label.sk-toggleable__label {background-color: #d4ebff;}#sk-container-id-1 input.sk-hidden--visually {border: 0;clip: rect(1px 1px 1px 1px);clip: rect(1px, 1px, 1px, 1px);height: 1px;margin: -1px;overflow: hidden;padding: 0;position: absolute;width: 1px;}#sk-container-id-1 div.sk-estimator {font-family: monospace;background-color: #f0f8ff;border: 1px dotted black;border-radius: 0.25em;box-sizing: border-box;margin-bottom: 0.5em;}#sk-container-id-1 div.sk-estimator:hover {background-color: #d4ebff;}#sk-container-id-1 div.sk-parallel-item::after {content: \"\";width: 100%;border-bottom: 1px solid gray;flex-grow: 1;}#sk-container-id-1 div.sk-label:hover label.sk-toggleable__label {background-color: #d4ebff;}#sk-container-id-1 div.sk-serial::before {content: \"\";position: absolute;border-left: 1px solid gray;box-sizing: border-box;top: 0;bottom: 0;left: 50%;z-index: 0;}#sk-container-id-1 div.sk-serial {display: flex;flex-direction: column;align-items: center;background-color: white;padding-right: 0.2em;padding-left: 0.2em;position: relative;}#sk-container-id-1 div.sk-item {position: relative;z-index: 1;}#sk-container-id-1 div.sk-parallel {display: flex;align-items: stretch;justify-content: center;background-color: white;position: relative;}#sk-container-id-1 div.sk-item::before, #sk-container-id-1 div.sk-parallel-item::before {content: \"\";position: absolute;border-left: 1px solid gray;box-sizing: border-box;top: 0;bottom: 0;left: 50%;z-index: -1;}#sk-container-id-1 div.sk-parallel-item {display: flex;flex-direction: column;z-index: 1;position: relative;background-color: white;}#sk-container-id-1 div.sk-parallel-item:first-child::after {align-self: flex-end;width: 50%;}#sk-container-id-1 div.sk-parallel-item:last-child::after {align-self: flex-start;width: 50%;}#sk-container-id-1 div.sk-parallel-item:only-child::after {width: 0;}#sk-container-id-1 div.sk-dashed-wrapped {border: 1px dashed gray;margin: 0 0.4em 0.5em 0.4em;box-sizing: border-box;padding-bottom: 0.4em;background-color: white;}#sk-container-id-1 div.sk-label label {font-family: monospace;font-weight: bold;display: inline-block;line-height: 1.2em;}#sk-container-id-1 div.sk-label-container {text-align: center;}#sk-container-id-1 div.sk-container {/* jupyter's `normalize.less` sets `[hidden] { display: none; }` but bootstrap.min.css set `[hidden] { display: none !important; }` so we also need the `!important` here to be able to override the default hidden behavior on the sphinx rendered scikit-learn.org. See: https://github.com/scikit-learn/scikit-learn/issues/21755 */display: inline-block !important;position: relative;}#sk-container-id-1 div.sk-text-repr-fallback {display: none;}</style><div id=\"sk-container-id-1\" class=\"sk-top-container\"><div class=\"sk-text-repr-fallback\"><pre>MLPClassifier(hidden_layer_sizes=(5, 5, 5), max_iter=10, solver=&#x27;lbfgs&#x27;)</pre><b>In a Jupyter environment, please rerun this cell to show the HTML representation or trust the notebook. <br />On GitHub, the HTML representation is unable to render, please try loading this page with nbviewer.org.</b></div><div class=\"sk-container\" hidden><div class=\"sk-item\"><div class=\"sk-estimator sk-toggleable\"><input class=\"sk-toggleable__control sk-hidden--visually\" id=\"sk-estimator-id-1\" type=\"checkbox\" checked><label for=\"sk-estimator-id-1\" class=\"sk-toggleable__label sk-toggleable__label-arrow\">MLPClassifier</label><div class=\"sk-toggleable__content\"><pre>MLPClassifier(hidden_layer_sizes=(5, 5, 5), max_iter=10, solver=&#x27;lbfgs&#x27;)</pre></div></div></div></div></div>"
            ],
            "text/plain": [
              "MLPClassifier(hidden_layer_sizes=(5, 5, 5), max_iter=10, solver='lbfgs')"
            ]
          },
          "execution_count": 40,
          "metadata": {},
          "output_type": "execute_result"
        }
      ],
      "source": [
        "mlp_sgd_relu = MLPClassifier(hidden_layer_sizes = (5,5,5), max_iter = 10, activation='relu', solver = 'sgd')\n",
        "mlp_adam_relu = MLPClassifier(hidden_layer_sizes = (5,5,5), max_iter = 10, activation='relu', solver = 'adam')\n",
        "mlp_lbfgs_relu = MLPClassifier(hidden_layer_sizes = (5,5,5), max_iter = 10, activation='relu', solver = 'lbfgs')\n",
        "\n",
        "mlp_sgd_relu.fit(X_train, y_train)\n",
        "mlp_adam_relu.fit(X_train, y_train)\n",
        "mlp_lbfgs_relu.fit(X_train, y_train)\n",
        "\n",
        "#predictions = mlp.predict(X_test)"
      ]
    },
    {
      "cell_type": "code",
      "execution_count": 41,
      "id": "1a1e1757",
      "metadata": {},
      "outputs": [
        {
          "name": "stderr",
          "output_type": "stream",
          "text": [
            "c:\\Users\\juanq\\anaconda3\\lib\\site-packages\\sklearn\\neural_network\\_multilayer_perceptron.py:684: ConvergenceWarning: Stochastic Optimizer: Maximum iterations (10) reached and the optimization hasn't converged yet.\n",
            "  warnings.warn(\n",
            "c:\\Users\\juanq\\anaconda3\\lib\\site-packages\\sklearn\\metrics\\_classification.py:1344: UndefinedMetricWarning: Precision is ill-defined and being set to 0.0 in labels with no predicted samples. Use `zero_division` parameter to control this behavior.\n",
            "  _warn_prf(average, modifier, msg_start, len(result))\n",
            "c:\\Users\\juanq\\anaconda3\\lib\\site-packages\\sklearn\\neural_network\\_multilayer_perceptron.py:684: ConvergenceWarning: Stochastic Optimizer: Maximum iterations (10) reached and the optimization hasn't converged yet.\n",
            "  warnings.warn(\n",
            "c:\\Users\\juanq\\anaconda3\\lib\\site-packages\\sklearn\\metrics\\_classification.py:1344: UndefinedMetricWarning: Precision is ill-defined and being set to 0.0 in labels with no predicted samples. Use `zero_division` parameter to control this behavior.\n",
            "  _warn_prf(average, modifier, msg_start, len(result))\n",
            "c:\\Users\\juanq\\anaconda3\\lib\\site-packages\\sklearn\\neural_network\\_multilayer_perceptron.py:684: ConvergenceWarning: Stochastic Optimizer: Maximum iterations (10) reached and the optimization hasn't converged yet.\n",
            "  warnings.warn(\n",
            "c:\\Users\\juanq\\anaconda3\\lib\\site-packages\\sklearn\\metrics\\_classification.py:1344: UndefinedMetricWarning: Precision is ill-defined and being set to 0.0 in labels with no predicted samples. Use `zero_division` parameter to control this behavior.\n",
            "  _warn_prf(average, modifier, msg_start, len(result))\n",
            "c:\\Users\\juanq\\anaconda3\\lib\\site-packages\\sklearn\\neural_network\\_multilayer_perceptron.py:684: ConvergenceWarning: Stochastic Optimizer: Maximum iterations (10) reached and the optimization hasn't converged yet.\n",
            "  warnings.warn(\n",
            "c:\\Users\\juanq\\anaconda3\\lib\\site-packages\\sklearn\\metrics\\_classification.py:1344: UndefinedMetricWarning: Precision is ill-defined and being set to 0.0 in labels with no predicted samples. Use `zero_division` parameter to control this behavior.\n",
            "  _warn_prf(average, modifier, msg_start, len(result))\n",
            "c:\\Users\\juanq\\anaconda3\\lib\\site-packages\\sklearn\\neural_network\\_multilayer_perceptron.py:684: ConvergenceWarning: Stochastic Optimizer: Maximum iterations (10) reached and the optimization hasn't converged yet.\n",
            "  warnings.warn(\n",
            "c:\\Users\\juanq\\anaconda3\\lib\\site-packages\\sklearn\\metrics\\_classification.py:1344: UndefinedMetricWarning: Precision is ill-defined and being set to 0.0 in labels with no predicted samples. Use `zero_division` parameter to control this behavior.\n",
            "  _warn_prf(average, modifier, msg_start, len(result))\n",
            "c:\\Users\\juanq\\anaconda3\\lib\\site-packages\\sklearn\\neural_network\\_multilayer_perceptron.py:684: ConvergenceWarning: Stochastic Optimizer: Maximum iterations (10) reached and the optimization hasn't converged yet.\n",
            "  warnings.warn(\n",
            "c:\\Users\\juanq\\anaconda3\\lib\\site-packages\\sklearn\\metrics\\_classification.py:1344: UndefinedMetricWarning: Precision is ill-defined and being set to 0.0 in labels with no predicted samples. Use `zero_division` parameter to control this behavior.\n",
            "  _warn_prf(average, modifier, msg_start, len(result))\n",
            "c:\\Users\\juanq\\anaconda3\\lib\\site-packages\\sklearn\\neural_network\\_multilayer_perceptron.py:684: ConvergenceWarning: Stochastic Optimizer: Maximum iterations (10) reached and the optimization hasn't converged yet.\n",
            "  warnings.warn(\n",
            "c:\\Users\\juanq\\anaconda3\\lib\\site-packages\\sklearn\\metrics\\_classification.py:1344: UndefinedMetricWarning: Precision is ill-defined and being set to 0.0 in labels with no predicted samples. Use `zero_division` parameter to control this behavior.\n",
            "  _warn_prf(average, modifier, msg_start, len(result))\n",
            "c:\\Users\\juanq\\anaconda3\\lib\\site-packages\\sklearn\\neural_network\\_multilayer_perceptron.py:684: ConvergenceWarning: Stochastic Optimizer: Maximum iterations (10) reached and the optimization hasn't converged yet.\n",
            "  warnings.warn(\n",
            "c:\\Users\\juanq\\anaconda3\\lib\\site-packages\\sklearn\\metrics\\_classification.py:1344: UndefinedMetricWarning: Precision is ill-defined and being set to 0.0 in labels with no predicted samples. Use `zero_division` parameter to control this behavior.\n",
            "  _warn_prf(average, modifier, msg_start, len(result))\n",
            "c:\\Users\\juanq\\anaconda3\\lib\\site-packages\\sklearn\\neural_network\\_multilayer_perceptron.py:684: ConvergenceWarning: Stochastic Optimizer: Maximum iterations (10) reached and the optimization hasn't converged yet.\n",
            "  warnings.warn(\n",
            "c:\\Users\\juanq\\anaconda3\\lib\\site-packages\\sklearn\\metrics\\_classification.py:1344: UndefinedMetricWarning: Precision is ill-defined and being set to 0.0 in labels with no predicted samples. Use `zero_division` parameter to control this behavior.\n",
            "  _warn_prf(average, modifier, msg_start, len(result))\n",
            "c:\\Users\\juanq\\anaconda3\\lib\\site-packages\\sklearn\\neural_network\\_multilayer_perceptron.py:684: ConvergenceWarning: Stochastic Optimizer: Maximum iterations (10) reached and the optimization hasn't converged yet.\n",
            "  warnings.warn(\n",
            "c:\\Users\\juanq\\anaconda3\\lib\\site-packages\\sklearn\\metrics\\_classification.py:1344: UndefinedMetricWarning: Precision is ill-defined and being set to 0.0 in labels with no predicted samples. Use `zero_division` parameter to control this behavior.\n",
            "  _warn_prf(average, modifier, msg_start, len(result))\n",
            "c:\\Users\\juanq\\anaconda3\\lib\\site-packages\\sklearn\\neural_network\\_multilayer_perceptron.py:541: ConvergenceWarning: lbfgs failed to converge (status=1):\n",
            "STOP: TOTAL NO. of ITERATIONS REACHED LIMIT.\n",
            "\n",
            "Increase the number of iterations (max_iter) or scale the data as shown in:\n",
            "    https://scikit-learn.org/stable/modules/preprocessing.html\n",
            "  self.n_iter_ = _check_optimize_result(\"lbfgs\", opt_res, self.max_iter)\n",
            "c:\\Users\\juanq\\anaconda3\\lib\\site-packages\\sklearn\\metrics\\_classification.py:1344: UndefinedMetricWarning: Precision is ill-defined and being set to 0.0 in labels with no predicted samples. Use `zero_division` parameter to control this behavior.\n",
            "  _warn_prf(average, modifier, msg_start, len(result))\n",
            "c:\\Users\\juanq\\anaconda3\\lib\\site-packages\\sklearn\\neural_network\\_multilayer_perceptron.py:541: ConvergenceWarning: lbfgs failed to converge (status=1):\n",
            "STOP: TOTAL NO. of ITERATIONS REACHED LIMIT.\n",
            "\n",
            "Increase the number of iterations (max_iter) or scale the data as shown in:\n",
            "    https://scikit-learn.org/stable/modules/preprocessing.html\n",
            "  self.n_iter_ = _check_optimize_result(\"lbfgs\", opt_res, self.max_iter)\n",
            "c:\\Users\\juanq\\anaconda3\\lib\\site-packages\\sklearn\\metrics\\_classification.py:1344: UndefinedMetricWarning: Precision is ill-defined and being set to 0.0 in labels with no predicted samples. Use `zero_division` parameter to control this behavior.\n",
            "  _warn_prf(average, modifier, msg_start, len(result))\n",
            "c:\\Users\\juanq\\anaconda3\\lib\\site-packages\\sklearn\\neural_network\\_multilayer_perceptron.py:541: ConvergenceWarning: lbfgs failed to converge (status=1):\n",
            "STOP: TOTAL NO. of ITERATIONS REACHED LIMIT.\n",
            "\n",
            "Increase the number of iterations (max_iter) or scale the data as shown in:\n",
            "    https://scikit-learn.org/stable/modules/preprocessing.html\n",
            "  self.n_iter_ = _check_optimize_result(\"lbfgs\", opt_res, self.max_iter)\n",
            "c:\\Users\\juanq\\anaconda3\\lib\\site-packages\\sklearn\\metrics\\_classification.py:1344: UndefinedMetricWarning: Precision is ill-defined and being set to 0.0 in labels with no predicted samples. Use `zero_division` parameter to control this behavior.\n",
            "  _warn_prf(average, modifier, msg_start, len(result))\n",
            "c:\\Users\\juanq\\anaconda3\\lib\\site-packages\\sklearn\\neural_network\\_multilayer_perceptron.py:541: ConvergenceWarning: lbfgs failed to converge (status=1):\n",
            "STOP: TOTAL NO. of ITERATIONS REACHED LIMIT.\n",
            "\n",
            "Increase the number of iterations (max_iter) or scale the data as shown in:\n",
            "    https://scikit-learn.org/stable/modules/preprocessing.html\n",
            "  self.n_iter_ = _check_optimize_result(\"lbfgs\", opt_res, self.max_iter)\n",
            "c:\\Users\\juanq\\anaconda3\\lib\\site-packages\\sklearn\\metrics\\_classification.py:1344: UndefinedMetricWarning: Precision is ill-defined and being set to 0.0 in labels with no predicted samples. Use `zero_division` parameter to control this behavior.\n",
            "  _warn_prf(average, modifier, msg_start, len(result))\n",
            "c:\\Users\\juanq\\anaconda3\\lib\\site-packages\\sklearn\\neural_network\\_multilayer_perceptron.py:541: ConvergenceWarning: lbfgs failed to converge (status=1):\n",
            "STOP: TOTAL NO. of ITERATIONS REACHED LIMIT.\n",
            "\n",
            "Increase the number of iterations (max_iter) or scale the data as shown in:\n",
            "    https://scikit-learn.org/stable/modules/preprocessing.html\n",
            "  self.n_iter_ = _check_optimize_result(\"lbfgs\", opt_res, self.max_iter)\n",
            "c:\\Users\\juanq\\anaconda3\\lib\\site-packages\\sklearn\\metrics\\_classification.py:1344: UndefinedMetricWarning: Precision is ill-defined and being set to 0.0 in labels with no predicted samples. Use `zero_division` parameter to control this behavior.\n",
            "  _warn_prf(average, modifier, msg_start, len(result))\n"
          ]
        }
      ],
      "source": [
        "from sklearn.metrics import classification_report\n",
        "\n",
        "#report = classification_report(y_test,predictions)\n",
        "#print(report)\n",
        "\n",
        "results_nn_sgd = cross_validate(mlp_sgd_relu, X, y, cv=5, scoring=scoring_metrics)\n",
        "results_nn_adam = cross_validate(mlp_adam_relu, X, y, cv=5, scoring=scoring_metrics)\n",
        "results_nn_lbfgs = cross_validate(mlp_lbfgs_relu, X, y, cv=5, scoring=scoring_metrics)"
      ]
    },
    {
      "cell_type": "code",
      "execution_count": 42,
      "id": "f0fb0901",
      "metadata": {},
      "outputs": [
        {
          "name": "stdout",
          "output_type": "stream",
          "text": [
            "{'fit_time': array([1.59175563, 1.62040997, 1.54069805, 1.46405697, 1.64830995]), 'score_time': array([0.00598407, 0.00398922, 0.004987  , 0.00398922, 0.00599241]), 'test_accuracy': array([0.704, 0.703, 0.703, 0.703, 0.703]), 'test_precision': array([0.1408, 0.1406, 0.1406, 0.1406, 0.1406]), 'test_recall': array([0.2, 0.2, 0.2, 0.2, 0.2]), 'test_f1': array([0.16525822, 0.16512038, 0.16512038, 0.16512038, 0.16512038])}\n",
            "{'fit_time': array([2.85254598, 2.05812192, 2.13006043, 2.10140514, 2.39723754]), 'score_time': array([0.00299311, 0.00398254, 0.00498652, 0.00598311, 0.0039885 ]), 'test_accuracy': array([0.704, 0.703, 0.703, 0.703, 0.703]), 'test_precision': array([0.1408    , 0.1406    , 0.1406    , 0.14130653, 0.1406    ]), 'test_recall': array([0.2, 0.2, 0.2, 0.2, 0.2]), 'test_f1': array([0.16525822, 0.16512038, 0.16512038, 0.1656066 , 0.16512038])}\n",
            "{'fit_time': array([0.5457027 , 0.7138145 , 0.77401781, 0.84750295, 0.64662766]), 'score_time': array([0.00499177, 0.00598407, 0.0039885 , 0.00598288, 0.0039897 ]), 'test_accuracy': array([0.704, 0.703, 0.703, 0.703, 0.703]), 'test_precision': array([0.1408, 0.1406, 0.1406, 0.1406, 0.1406]), 'test_recall': array([0.2, 0.2, 0.2, 0.2, 0.2]), 'test_f1': array([0.16525822, 0.16512038, 0.16512038, 0.16512038, 0.16512038])}\n"
          ]
        }
      ],
      "source": [
        "print(results_nn_sgd)\n",
        "print(results_nn_adam)\n",
        "print(results_nn_lbfgs)"
      ]
    },
    {
      "cell_type": "code",
      "execution_count": 43,
      "id": "4bd8ce80",
      "metadata": {},
      "outputs": [
        {
          "data": {
            "image/png": "[encoded data removed]",
            "text/plain": [
              "<Figure size 640x480 with 1 Axes>"
            ]
          },
          "metadata": {},
          "output_type": "display_data"
        }
      ],
      "source": [
        "nn_sgd_mean_metrics = calculate_mean_metrics(results_nn_sgd)\n",
        "nn_adam_mean_metrics = calculate_mean_metrics(results_nn_adam)\n",
        "nn_lbfgs_mean_metrics = calculate_mean_metrics(results_nn_lbfgs)\n",
        "\n",
        "metric_categories = ['accuracy', 'precision', 'recall', 'f1']\n",
        "N = len(metric_categories)\n",
        "fig, ax = plt.subplots()\n",
        "space = 1.5\n",
        "ind = np.arange(0,N*space, space) \n",
        "width_bar = 0.25\n",
        "\n",
        "rect1 = ax.bar(ind+0, nn_sgd_mean_metrics[2:], color = 'b', width = width_bar, label='sgd')\n",
        "rect2 = ax.bar(ind-0.50, nn_adam_mean_metrics[2:], color = 'g', width = width_bar, label='adam')\n",
        "rect3 = ax.bar(ind-0.25, nn_lbfgs_mean_metrics[2:], color = 'r', width = width_bar, label='lbfgs')\n",
        "\n",
        "ax.set_xlabel('Metric')\n",
        "ax.set_ylabel('Value')\n",
        "ax.set_title('Metric comparison')\n",
        "\n",
        "ax.set_xticks(ind)\n",
        "ax.set_xticklabels(metric_categories)\n",
        "ax.legend()\n",
        "plt.show()"
      ]
    },
    {
      "attachments": {},
      "cell_type": "markdown",
      "id": "8453d51b",
      "metadata": {},
      "source": [
        "Al arrojarnos los 3 datos idénticos, escogeremos uno y experimentaremos con el para intentar mejorar el rendimiento. Nosotros escogimos el solver sgd."
      ]
    },
    {
      "cell_type": "code",
      "execution_count": 46,
      "id": "3c6bd0e9",
      "metadata": {},
      "outputs": [
        {
          "name": "stderr",
          "output_type": "stream",
          "text": [
            "c:\\Users\\juanq\\anaconda3\\lib\\site-packages\\sklearn\\neural_network\\_multilayer_perceptron.py:684: ConvergenceWarning: Stochastic Optimizer: Maximum iterations (10) reached and the optimization hasn't converged yet.\n",
            "  warnings.warn(\n",
            "c:\\Users\\juanq\\anaconda3\\lib\\site-packages\\sklearn\\neural_network\\_multilayer_perceptron.py:684: ConvergenceWarning: Stochastic Optimizer: Maximum iterations (20) reached and the optimization hasn't converged yet.\n",
            "  warnings.warn(\n",
            "c:\\Users\\juanq\\anaconda3\\lib\\site-packages\\sklearn\\neural_network\\_multilayer_perceptron.py:684: ConvergenceWarning: Stochastic Optimizer: Maximum iterations (10) reached and the optimization hasn't converged yet.\n",
            "  warnings.warn(\n",
            "c:\\Users\\juanq\\anaconda3\\lib\\site-packages\\sklearn\\neural_network\\_multilayer_perceptron.py:684: ConvergenceWarning: Stochastic Optimizer: Maximum iterations (10) reached and the optimization hasn't converged yet.\n",
            "  warnings.warn(\n",
            "c:\\Users\\juanq\\anaconda3\\lib\\site-packages\\sklearn\\neural_network\\_multilayer_perceptron.py:684: ConvergenceWarning: Stochastic Optimizer: Maximum iterations (10) reached and the optimization hasn't converged yet.\n",
            "  warnings.warn(\n"
          ]
        },
        {
          "data": {
            "text/html": [
              "<style>#sk-container-id-2 {color: black;background-color: white;}#sk-container-id-2 pre{padding: 0;}#sk-container-id-2 div.sk-toggleable {background-color: white;}#sk-container-id-2 label.sk-toggleable__label {cursor: pointer;display: block;width: 100%;margin-bottom: 0;padding: 0.3em;box-sizing: border-box;text-align: center;}#sk-container-id-2 label.sk-toggleable__label-arrow:before {content: \"▸\";float: left;margin-right: 0.25em;color: #696969;}#sk-container-id-2 label.sk-toggleable__label-arrow:hover:before {color: black;}#sk-container-id-2 div.sk-estimator:hover label.sk-toggleable__label-arrow:before {color: black;}#sk-container-id-2 div.sk-toggleable__content {max-height: 0;max-width: 0;overflow: hidden;text-align: left;background-color: #f0f8ff;}#sk-container-id-2 div.sk-toggleable__content pre {margin: 0.2em;color: black;border-radius: 0.25em;background-color: #f0f8ff;}#sk-container-id-2 input.sk-toggleable__control:checked~div.sk-toggleable__content {max-height: 200px;max-width: 100%;overflow: auto;}#sk-container-id-2 input.sk-toggleable__control:checked~label.sk-toggleable__label-arrow:before {content: \"▾\";}#sk-container-id-2 div.sk-estimator input.sk-toggleable__control:checked~label.sk-toggleable__label {background-color: #d4ebff;}#sk-container-id-2 div.sk-label input.sk-toggleable__control:checked~label.sk-toggleable__label {background-color: #d4ebff;}#sk-container-id-2 input.sk-hidden--visually {border: 0;clip: rect(1px 1px 1px 1px);clip: rect(1px, 1px, 1px, 1px);height: 1px;margin: -1px;overflow: hidden;padding: 0;position: absolute;width: 1px;}#sk-container-id-2 div.sk-estimator {font-family: monospace;background-color: #f0f8ff;border: 1px dotted black;border-radius: 0.25em;box-sizing: border-box;margin-bottom: 0.5em;}#sk-container-id-2 div.sk-estimator:hover {background-color: #d4ebff;}#sk-container-id-2 div.sk-parallel-item::after {content: \"\";width: 100%;border-bottom: 1px solid gray;flex-grow: 1;}#sk-container-id-2 div.sk-label:hover label.sk-toggleable__label {background-color: #d4ebff;}#sk-container-id-2 div.sk-serial::before {content: \"\";position: absolute;border-left: 1px solid gray;box-sizing: border-box;top: 0;bottom: 0;left: 50%;z-index: 0;}#sk-container-id-2 div.sk-serial {display: flex;flex-direction: column;align-items: center;background-color: white;padding-right: 0.2em;padding-left: 0.2em;position: relative;}#sk-container-id-2 div.sk-item {position: relative;z-index: 1;}#sk-container-id-2 div.sk-parallel {display: flex;align-items: stretch;justify-content: center;background-color: white;position: relative;}#sk-container-id-2 div.sk-item::before, #sk-container-id-2 div.sk-parallel-item::before {content: \"\";position: absolute;border-left: 1px solid gray;box-sizing: border-box;top: 0;bottom: 0;left: 50%;z-index: -1;}#sk-container-id-2 div.sk-parallel-item {display: flex;flex-direction: column;z-index: 1;position: relative;background-color: white;}#sk-container-id-2 div.sk-parallel-item:first-child::after {align-self: flex-end;width: 50%;}#sk-container-id-2 div.sk-parallel-item:last-child::after {align-self: flex-start;width: 50%;}#sk-container-id-2 div.sk-parallel-item:only-child::after {width: 0;}#sk-container-id-2 div.sk-dashed-wrapped {border: 1px dashed gray;margin: 0 0.4em 0.5em 0.4em;box-sizing: border-box;padding-bottom: 0.4em;background-color: white;}#sk-container-id-2 div.sk-label label {font-family: monospace;font-weight: bold;display: inline-block;line-height: 1.2em;}#sk-container-id-2 div.sk-label-container {text-align: center;}#sk-container-id-2 div.sk-container {/* jupyter's `normalize.less` sets `[hidden] { display: none; }` but bootstrap.min.css set `[hidden] { display: none !important; }` so we also need the `!important` here to be able to override the default hidden behavior on the sphinx rendered scikit-learn.org. See: https://github.com/scikit-learn/scikit-learn/issues/21755 */display: inline-block !important;position: relative;}#sk-container-id-2 div.sk-text-repr-fallback {display: none;}</style><div id=\"sk-container-id-2\" class=\"sk-top-container\"><div class=\"sk-text-repr-fallback\"><pre>MLPClassifier(activation=&#x27;tanh&#x27;, hidden_layer_sizes=(10, 10, 10), max_iter=10,\n",
              "              solver=&#x27;sgd&#x27;)</pre><b>In a Jupyter environment, please rerun this cell to show the HTML representation or trust the notebook. <br />On GitHub, the HTML representation is unable to render, please try loading this page with nbviewer.org.</b></div><div class=\"sk-container\" hidden><div class=\"sk-item\"><div class=\"sk-estimator sk-toggleable\"><input class=\"sk-toggleable__control sk-hidden--visually\" id=\"sk-estimator-id-2\" type=\"checkbox\" checked><label for=\"sk-estimator-id-2\" class=\"sk-toggleable__label sk-toggleable__label-arrow\">MLPClassifier</label><div class=\"sk-toggleable__content\"><pre>MLPClassifier(activation=&#x27;tanh&#x27;, hidden_layer_sizes=(10, 10, 10), max_iter=10,\n",
              "              solver=&#x27;sgd&#x27;)</pre></div></div></div></div></div>"
            ],
            "text/plain": [
              "MLPClassifier(activation='tanh', hidden_layer_sizes=(10, 10, 10), max_iter=10,\n",
              "              solver='sgd')"
            ]
          },
          "execution_count": 46,
          "metadata": {},
          "output_type": "execute_result"
        }
      ],
      "source": [
        "mlp_sgd_relu = MLPClassifier(hidden_layer_sizes = (5,5,5), max_iter = 10, activation='relu', solver = 'sgd')\n",
        "mlp_sgd_more_iterations = MLPClassifier(hidden_layer_sizes = (5,5,5), max_iter = 20, activation='relu', solver = 'sgd')\n",
        "mlp_sgd_tanh = MLPClassifier(hidden_layer_sizes = (5,5,5), max_iter = 10, activation='tanh', solver = 'sgd')\n",
        "mlp_sgd_more_layers = MLPClassifier(hidden_layer_sizes = (5,5,5,5), max_iter = 10, activation='tanh', solver = 'sgd')\n",
        "mlp_sgd_more_neurons = MLPClassifier(hidden_layer_sizes = (10,10,10), max_iter = 10, activation='tanh', solver = 'sgd')\n",
        "\n",
        "mlp_sgd_relu.fit(X_train, y_train)\n",
        "mlp_sgd_more_iterations.fit(X_train, y_train)\n",
        "mlp_sgd_tanh.fit(X_train, y_train)\n",
        "mlp_sgd_more_layers.fit(X_train, y_train)\n",
        "mlp_sgd_more_neurons.fit(X_train, y_train)\n"
      ]
    },
    {
      "cell_type": "code",
      "execution_count": 47,
      "id": "f0abf30a",
      "metadata": {},
      "outputs": [
        {
          "name": "stderr",
          "output_type": "stream",
          "text": [
            "c:\\Users\\juanq\\anaconda3\\lib\\site-packages\\sklearn\\neural_network\\_multilayer_perceptron.py:684: ConvergenceWarning: Stochastic Optimizer: Maximum iterations (10) reached and the optimization hasn't converged yet.\n",
            "  warnings.warn(\n",
            "c:\\Users\\juanq\\anaconda3\\lib\\site-packages\\sklearn\\metrics\\_classification.py:1344: UndefinedMetricWarning: Precision is ill-defined and being set to 0.0 in labels with no predicted samples. Use `zero_division` parameter to control this behavior.\n",
            "  _warn_prf(average, modifier, msg_start, len(result))\n",
            "c:\\Users\\juanq\\anaconda3\\lib\\site-packages\\sklearn\\neural_network\\_multilayer_perceptron.py:684: ConvergenceWarning: Stochastic Optimizer: Maximum iterations (10) reached and the optimization hasn't converged yet.\n",
            "  warnings.warn(\n",
            "c:\\Users\\juanq\\anaconda3\\lib\\site-packages\\sklearn\\metrics\\_classification.py:1344: UndefinedMetricWarning: Precision is ill-defined and being set to 0.0 in labels with no predicted samples. Use `zero_division` parameter to control this behavior.\n",
            "  _warn_prf(average, modifier, msg_start, len(result))\n",
            "c:\\Users\\juanq\\anaconda3\\lib\\site-packages\\sklearn\\neural_network\\_multilayer_perceptron.py:684: ConvergenceWarning: Stochastic Optimizer: Maximum iterations (10) reached and the optimization hasn't converged yet.\n",
            "  warnings.warn(\n",
            "c:\\Users\\juanq\\anaconda3\\lib\\site-packages\\sklearn\\metrics\\_classification.py:1344: UndefinedMetricWarning: Precision is ill-defined and being set to 0.0 in labels with no predicted samples. Use `zero_division` parameter to control this behavior.\n",
            "  _warn_prf(average, modifier, msg_start, len(result))\n",
            "c:\\Users\\juanq\\anaconda3\\lib\\site-packages\\sklearn\\neural_network\\_multilayer_perceptron.py:684: ConvergenceWarning: Stochastic Optimizer: Maximum iterations (10) reached and the optimization hasn't converged yet.\n",
            "  warnings.warn(\n",
            "c:\\Users\\juanq\\anaconda3\\lib\\site-packages\\sklearn\\metrics\\_classification.py:1344: UndefinedMetricWarning: Precision is ill-defined and being set to 0.0 in labels with no predicted samples. Use `zero_division` parameter to control this behavior.\n",
            "  _warn_prf(average, modifier, msg_start, len(result))\n",
            "c:\\Users\\juanq\\anaconda3\\lib\\site-packages\\sklearn\\neural_network\\_multilayer_perceptron.py:684: ConvergenceWarning: Stochastic Optimizer: Maximum iterations (10) reached and the optimization hasn't converged yet.\n",
            "  warnings.warn(\n",
            "c:\\Users\\juanq\\anaconda3\\lib\\site-packages\\sklearn\\metrics\\_classification.py:1344: UndefinedMetricWarning: Precision is ill-defined and being set to 0.0 in labels with no predicted samples. Use `zero_division` parameter to control this behavior.\n",
            "  _warn_prf(average, modifier, msg_start, len(result))\n",
            "c:\\Users\\juanq\\anaconda3\\lib\\site-packages\\sklearn\\neural_network\\_multilayer_perceptron.py:684: ConvergenceWarning: Stochastic Optimizer: Maximum iterations (20) reached and the optimization hasn't converged yet.\n",
            "  warnings.warn(\n",
            "c:\\Users\\juanq\\anaconda3\\lib\\site-packages\\sklearn\\metrics\\_classification.py:1344: UndefinedMetricWarning: Precision is ill-defined and being set to 0.0 in labels with no predicted samples. Use `zero_division` parameter to control this behavior.\n",
            "  _warn_prf(average, modifier, msg_start, len(result))\n",
            "c:\\Users\\juanq\\anaconda3\\lib\\site-packages\\sklearn\\neural_network\\_multilayer_perceptron.py:684: ConvergenceWarning: Stochastic Optimizer: Maximum iterations (20) reached and the optimization hasn't converged yet.\n",
            "  warnings.warn(\n",
            "c:\\Users\\juanq\\anaconda3\\lib\\site-packages\\sklearn\\metrics\\_classification.py:1344: UndefinedMetricWarning: Precision is ill-defined and being set to 0.0 in labels with no predicted samples. Use `zero_division` parameter to control this behavior.\n",
            "  _warn_prf(average, modifier, msg_start, len(result))\n",
            "c:\\Users\\juanq\\anaconda3\\lib\\site-packages\\sklearn\\neural_network\\_multilayer_perceptron.py:684: ConvergenceWarning: Stochastic Optimizer: Maximum iterations (20) reached and the optimization hasn't converged yet.\n",
            "  warnings.warn(\n",
            "c:\\Users\\juanq\\anaconda3\\lib\\site-packages\\sklearn\\metrics\\_classification.py:1344: UndefinedMetricWarning: Precision is ill-defined and being set to 0.0 in labels with no predicted samples. Use `zero_division` parameter to control this behavior.\n",
            "  _warn_prf(average, modifier, msg_start, len(result))\n",
            "c:\\Users\\juanq\\anaconda3\\lib\\site-packages\\sklearn\\neural_network\\_multilayer_perceptron.py:684: ConvergenceWarning: Stochastic Optimizer: Maximum iterations (20) reached and the optimization hasn't converged yet.\n",
            "  warnings.warn(\n",
            "c:\\Users\\juanq\\anaconda3\\lib\\site-packages\\sklearn\\metrics\\_classification.py:1344: UndefinedMetricWarning: Precision is ill-defined and being set to 0.0 in labels with no predicted samples. Use `zero_division` parameter to control this behavior.\n",
            "  _warn_prf(average, modifier, msg_start, len(result))\n",
            "c:\\Users\\juanq\\anaconda3\\lib\\site-packages\\sklearn\\neural_network\\_multilayer_perceptron.py:684: ConvergenceWarning: Stochastic Optimizer: Maximum iterations (20) reached and the optimization hasn't converged yet.\n",
            "  warnings.warn(\n",
            "c:\\Users\\juanq\\anaconda3\\lib\\site-packages\\sklearn\\metrics\\_classification.py:1344: UndefinedMetricWarning: Precision is ill-defined and being set to 0.0 in labels with no predicted samples. Use `zero_division` parameter to control this behavior.\n",
            "  _warn_prf(average, modifier, msg_start, len(result))\n",
            "c:\\Users\\juanq\\anaconda3\\lib\\site-packages\\sklearn\\neural_network\\_multilayer_perceptron.py:684: ConvergenceWarning: Stochastic Optimizer: Maximum iterations (10) reached and the optimization hasn't converged yet.\n",
            "  warnings.warn(\n",
            "c:\\Users\\juanq\\anaconda3\\lib\\site-packages\\sklearn\\metrics\\_classification.py:1344: UndefinedMetricWarning: Precision is ill-defined and being set to 0.0 in labels with no predicted samples. Use `zero_division` parameter to control this behavior.\n",
            "  _warn_prf(average, modifier, msg_start, len(result))\n",
            "c:\\Users\\juanq\\anaconda3\\lib\\site-packages\\sklearn\\neural_network\\_multilayer_perceptron.py:684: ConvergenceWarning: Stochastic Optimizer: Maximum iterations (10) reached and the optimization hasn't converged yet.\n",
            "  warnings.warn(\n",
            "c:\\Users\\juanq\\anaconda3\\lib\\site-packages\\sklearn\\metrics\\_classification.py:1344: UndefinedMetricWarning: Precision is ill-defined and being set to 0.0 in labels with no predicted samples. Use `zero_division` parameter to control this behavior.\n",
            "  _warn_prf(average, modifier, msg_start, len(result))\n",
            "c:\\Users\\juanq\\anaconda3\\lib\\site-packages\\sklearn\\neural_network\\_multilayer_perceptron.py:684: ConvergenceWarning: Stochastic Optimizer: Maximum iterations (10) reached and the optimization hasn't converged yet.\n",
            "  warnings.warn(\n",
            "c:\\Users\\juanq\\anaconda3\\lib\\site-packages\\sklearn\\metrics\\_classification.py:1344: UndefinedMetricWarning: Precision is ill-defined and being set to 0.0 in labels with no predicted samples. Use `zero_division` parameter to control this behavior.\n",
            "  _warn_prf(average, modifier, msg_start, len(result))\n",
            "c:\\Users\\juanq\\anaconda3\\lib\\site-packages\\sklearn\\neural_network\\_multilayer_perceptron.py:684: ConvergenceWarning: Stochastic Optimizer: Maximum iterations (10) reached and the optimization hasn't converged yet.\n",
            "  warnings.warn(\n",
            "c:\\Users\\juanq\\anaconda3\\lib\\site-packages\\sklearn\\metrics\\_classification.py:1344: UndefinedMetricWarning: Precision is ill-defined and being set to 0.0 in labels with no predicted samples. Use `zero_division` parameter to control this behavior.\n",
            "  _warn_prf(average, modifier, msg_start, len(result))\n",
            "c:\\Users\\juanq\\anaconda3\\lib\\site-packages\\sklearn\\neural_network\\_multilayer_perceptron.py:684: ConvergenceWarning: Stochastic Optimizer: Maximum iterations (10) reached and the optimization hasn't converged yet.\n",
            "  warnings.warn(\n",
            "c:\\Users\\juanq\\anaconda3\\lib\\site-packages\\sklearn\\metrics\\_classification.py:1344: UndefinedMetricWarning: Precision is ill-defined and being set to 0.0 in labels with no predicted samples. Use `zero_division` parameter to control this behavior.\n",
            "  _warn_prf(average, modifier, msg_start, len(result))\n",
            "c:\\Users\\juanq\\anaconda3\\lib\\site-packages\\sklearn\\neural_network\\_multilayer_perceptron.py:684: ConvergenceWarning: Stochastic Optimizer: Maximum iterations (10) reached and the optimization hasn't converged yet.\n",
            "  warnings.warn(\n",
            "c:\\Users\\juanq\\anaconda3\\lib\\site-packages\\sklearn\\metrics\\_classification.py:1344: UndefinedMetricWarning: Precision is ill-defined and being set to 0.0 in labels with no predicted samples. Use `zero_division` parameter to control this behavior.\n",
            "  _warn_prf(average, modifier, msg_start, len(result))\n",
            "c:\\Users\\juanq\\anaconda3\\lib\\site-packages\\sklearn\\neural_network\\_multilayer_perceptron.py:684: ConvergenceWarning: Stochastic Optimizer: Maximum iterations (10) reached and the optimization hasn't converged yet.\n",
            "  warnings.warn(\n",
            "c:\\Users\\juanq\\anaconda3\\lib\\site-packages\\sklearn\\metrics\\_classification.py:1344: UndefinedMetricWarning: Precision is ill-defined and being set to 0.0 in labels with no predicted samples. Use `zero_division` parameter to control this behavior.\n",
            "  _warn_prf(average, modifier, msg_start, len(result))\n",
            "c:\\Users\\juanq\\anaconda3\\lib\\site-packages\\sklearn\\neural_network\\_multilayer_perceptron.py:684: ConvergenceWarning: Stochastic Optimizer: Maximum iterations (10) reached and the optimization hasn't converged yet.\n",
            "  warnings.warn(\n",
            "c:\\Users\\juanq\\anaconda3\\lib\\site-packages\\sklearn\\metrics\\_classification.py:1344: UndefinedMetricWarning: Precision is ill-defined and being set to 0.0 in labels with no predicted samples. Use `zero_division` parameter to control this behavior.\n",
            "  _warn_prf(average, modifier, msg_start, len(result))\n",
            "c:\\Users\\juanq\\anaconda3\\lib\\site-packages\\sklearn\\neural_network\\_multilayer_perceptron.py:684: ConvergenceWarning: Stochastic Optimizer: Maximum iterations (10) reached and the optimization hasn't converged yet.\n",
            "  warnings.warn(\n",
            "c:\\Users\\juanq\\anaconda3\\lib\\site-packages\\sklearn\\metrics\\_classification.py:1344: UndefinedMetricWarning: Precision is ill-defined and being set to 0.0 in labels with no predicted samples. Use `zero_division` parameter to control this behavior.\n",
            "  _warn_prf(average, modifier, msg_start, len(result))\n",
            "c:\\Users\\juanq\\anaconda3\\lib\\site-packages\\sklearn\\neural_network\\_multilayer_perceptron.py:684: ConvergenceWarning: Stochastic Optimizer: Maximum iterations (10) reached and the optimization hasn't converged yet.\n",
            "  warnings.warn(\n",
            "c:\\Users\\juanq\\anaconda3\\lib\\site-packages\\sklearn\\metrics\\_classification.py:1344: UndefinedMetricWarning: Precision is ill-defined and being set to 0.0 in labels with no predicted samples. Use `zero_division` parameter to control this behavior.\n",
            "  _warn_prf(average, modifier, msg_start, len(result))\n",
            "c:\\Users\\juanq\\anaconda3\\lib\\site-packages\\sklearn\\neural_network\\_multilayer_perceptron.py:684: ConvergenceWarning: Stochastic Optimizer: Maximum iterations (10) reached and the optimization hasn't converged yet.\n",
            "  warnings.warn(\n",
            "c:\\Users\\juanq\\anaconda3\\lib\\site-packages\\sklearn\\metrics\\_classification.py:1344: UndefinedMetricWarning: Precision is ill-defined and being set to 0.0 in labels with no predicted samples. Use `zero_division` parameter to control this behavior.\n",
            "  _warn_prf(average, modifier, msg_start, len(result))\n",
            "c:\\Users\\juanq\\anaconda3\\lib\\site-packages\\sklearn\\neural_network\\_multilayer_perceptron.py:684: ConvergenceWarning: Stochastic Optimizer: Maximum iterations (10) reached and the optimization hasn't converged yet.\n",
            "  warnings.warn(\n",
            "c:\\Users\\juanq\\anaconda3\\lib\\site-packages\\sklearn\\metrics\\_classification.py:1344: UndefinedMetricWarning: Precision is ill-defined and being set to 0.0 in labels with no predicted samples. Use `zero_division` parameter to control this behavior.\n",
            "  _warn_prf(average, modifier, msg_start, len(result))\n",
            "c:\\Users\\juanq\\anaconda3\\lib\\site-packages\\sklearn\\neural_network\\_multilayer_perceptron.py:684: ConvergenceWarning: Stochastic Optimizer: Maximum iterations (10) reached and the optimization hasn't converged yet.\n",
            "  warnings.warn(\n",
            "c:\\Users\\juanq\\anaconda3\\lib\\site-packages\\sklearn\\metrics\\_classification.py:1344: UndefinedMetricWarning: Precision is ill-defined and being set to 0.0 in labels with no predicted samples. Use `zero_division` parameter to control this behavior.\n",
            "  _warn_prf(average, modifier, msg_start, len(result))\n",
            "c:\\Users\\juanq\\anaconda3\\lib\\site-packages\\sklearn\\neural_network\\_multilayer_perceptron.py:684: ConvergenceWarning: Stochastic Optimizer: Maximum iterations (10) reached and the optimization hasn't converged yet.\n",
            "  warnings.warn(\n",
            "c:\\Users\\juanq\\anaconda3\\lib\\site-packages\\sklearn\\metrics\\_classification.py:1344: UndefinedMetricWarning: Precision is ill-defined and being set to 0.0 in labels with no predicted samples. Use `zero_division` parameter to control this behavior.\n",
            "  _warn_prf(average, modifier, msg_start, len(result))\n",
            "c:\\Users\\juanq\\anaconda3\\lib\\site-packages\\sklearn\\neural_network\\_multilayer_perceptron.py:684: ConvergenceWarning: Stochastic Optimizer: Maximum iterations (10) reached and the optimization hasn't converged yet.\n",
            "  warnings.warn(\n",
            "c:\\Users\\juanq\\anaconda3\\lib\\site-packages\\sklearn\\metrics\\_classification.py:1344: UndefinedMetricWarning: Precision is ill-defined and being set to 0.0 in labels with no predicted samples. Use `zero_division` parameter to control this behavior.\n",
            "  _warn_prf(average, modifier, msg_start, len(result))\n"
          ]
        }
      ],
      "source": [
        "results_nn_sgd = cross_validate(mlp_sgd_relu, X, y, cv=5, scoring=scoring_metrics)\n",
        "results_nn_sgd_more_iterations = cross_validate(mlp_sgd_more_iterations, X, y, cv=5, scoring=scoring_metrics)\n",
        "results_nn_sgd_tanh = cross_validate(mlp_sgd_tanh, X, y, cv=5, scoring=scoring_metrics)\n",
        "results_nn_sgd_more_layers = cross_validate(mlp_sgd_more_layers, X, y, cv=5, scoring=scoring_metrics)\n",
        "results_nn_sgd_more_neurons = cross_validate(mlp_sgd_more_neurons, X, y, cv=5, scoring=scoring_metrics)\n"
      ]
    },
    {
      "cell_type": "code",
      "execution_count": 50,
      "id": "b4f85e67",
      "metadata": {},
      "outputs": [
        {
          "data": {
            "image/png": "[encoded data removed]",
            "text/plain": [
              "<Figure size 640x480 with 1 Axes>"
            ]
          },
          "metadata": {},
          "output_type": "display_data"
        }
      ],
      "source": [
        "nn_sgd_mean_metrics = calculate_mean_metrics(results_nn_sgd)\n",
        "results_nn_sgd_more_iterations_metrics = calculate_mean_metrics(results_nn_sgd_more_iterations)\n",
        "results_nn_sgd_tanh_metrics = calculate_mean_metrics(results_nn_sgd_tanh)\n",
        "results_nn_sgd_more_layers_metrics = calculate_mean_metrics(results_nn_sgd_more_layers)\n",
        "results_nn_sgd_more_neurons_metrics = calculate_mean_metrics(results_nn_sgd_more_neurons)\n",
        "\n",
        "metric_categories = ['accuracy', 'precision', 'recall', 'f1']\n",
        "N = len(metric_categories)\n",
        "fig, ax = plt.subplots()\n",
        "space = 1.5\n",
        "ind = np.arange(0,N*space, space) \n",
        "width_bar = 0.25\n",
        "\n",
        "rect1 = ax.bar(ind+0, nn_sgd_mean_metrics[2:], color = 'b', width = width_bar, label='sgd')\n",
        "rect2 = ax.bar(ind-0.25, results_nn_sgd_more_iterations_metrics[2:], color = 'g', width = width_bar, label='+ iterations')\n",
        "rect3 = ax.bar(ind-0.50, results_nn_sgd_tanh_metrics[2:], color = 'r', width = width_bar, label='tanh')\n",
        "rect3 = ax.bar(ind+0.25, results_nn_sgd_more_layers_metrics[2:], color = 'y', width = width_bar, label='+ layers')\n",
        "rect3 = ax.bar(ind+0.50, results_nn_sgd_more_neurons_metrics[2:], color = 'purple', width = width_bar, label='+ neurons')\n",
        "\n",
        "ax.set_xlabel('Metric')\n",
        "ax.set_ylabel('Value')\n",
        "ax.set_title('Metric comparison')\n",
        "\n",
        "ax.set_xticks(ind)\n",
        "ax.set_xticklabels(metric_categories)\n",
        "ax.legend()\n",
        "plt.show()"
      ]
    },
    {
      "attachments": {},
      "cell_type": "markdown",
      "id": "e7d7a360",
      "metadata": {},
      "source": [
        "Mismos resultados que antes, esto se puede deber a que en ninguno de los modelos alcanza a converger la optimización y por tanto no se puede optimizar el resultado, quizá el dataset es demasiado pequeño o hay que implementar muchas épocas para poder alcanzar un mínimo local en el descenso por el gradiente.\n",
        "\n",
        "En la siguiente celda hemos intentado una implementación con más generaciones y mas neuronas pero el tiempo que consume este modelo lo hace inviable tomándose hasta 10min para completar el entrenamiento y calcular sus métricas mediante evaluación cruzada."
      ]
    },
    {
      "cell_type": "code",
      "execution_count": 51,
      "id": "0072f67d",
      "metadata": {},
      "outputs": [
        {
          "name": "stderr",
          "output_type": "stream",
          "text": [
            "c:\\Users\\juanq\\anaconda3\\lib\\site-packages\\sklearn\\neural_network\\_multilayer_perceptron.py:691: UserWarning: Training interrupted by user.\n",
            "  warnings.warn(\"Training interrupted by user.\")\n"
          ]
        },
        {
          "ename": "KeyboardInterrupt",
          "evalue": "",
          "output_type": "error",
          "traceback": [
            "\u001b[1;31m---------------------------------------------------------------------------\u001b[0m",
            "\u001b[1;31mKeyboardInterrupt\u001b[0m                         Traceback (most recent call last)",
            "Cell \u001b[1;32mIn[51], line 9\u001b[0m\n\u001b[0;32m      7\u001b[0m mlp_sgd\u001b[39m.\u001b[39mfit(X_train, y_train)\n\u001b[0;32m      8\u001b[0m mlp_adam\u001b[39m.\u001b[39mfit(X_train, y_train)\n\u001b[1;32m----> 9\u001b[0m mlp_lbfgs\u001b[39m.\u001b[39;49mfit(X_train, y_train)\n\u001b[0;32m     11\u001b[0m results_nn_sgd \u001b[39m=\u001b[39m cross_validate(mlp_sgd, X, y, cv\u001b[39m=\u001b[39m\u001b[39m5\u001b[39m, scoring\u001b[39m=\u001b[39mscoring_metrics)\n\u001b[0;32m     12\u001b[0m results_nn_adam \u001b[39m=\u001b[39m cross_validate(mlp_adam, X, y, cv\u001b[39m=\u001b[39m\u001b[39m5\u001b[39m, scoring\u001b[39m=\u001b[39mscoring_metrics)\n",
            "File \u001b[1;32mc:\\Users\\juanq\\anaconda3\\lib\\site-packages\\sklearn\\neural_network\\_multilayer_perceptron.py:747\u001b[0m, in \u001b[0;36mBaseMultilayerPerceptron.fit\u001b[1;34m(self, X, y)\u001b[0m\n\u001b[0;32m    729\u001b[0m \u001b[39m\"\"\"Fit the model to data matrix X and target(s) y.\u001b[39;00m\n\u001b[0;32m    730\u001b[0m \n\u001b[0;32m    731\u001b[0m \u001b[39mParameters\u001b[39;00m\n\u001b[1;32m   (...)\u001b[0m\n\u001b[0;32m    743\u001b[0m \u001b[39m    Returns a trained MLP model.\u001b[39;00m\n\u001b[0;32m    744\u001b[0m \u001b[39m\"\"\"\u001b[39;00m\n\u001b[0;32m    745\u001b[0m \u001b[39mself\u001b[39m\u001b[39m.\u001b[39m_validate_params()\n\u001b[1;32m--> 747\u001b[0m \u001b[39mreturn\u001b[39;00m \u001b[39mself\u001b[39;49m\u001b[39m.\u001b[39;49m_fit(X, y, incremental\u001b[39m=\u001b[39;49m\u001b[39mFalse\u001b[39;49;00m)\n",
            "File \u001b[1;32mc:\\Users\\juanq\\anaconda3\\lib\\site-packages\\sklearn\\neural_network\\_multilayer_perceptron.py:484\u001b[0m, in \u001b[0;36mBaseMultilayerPerceptron._fit\u001b[1;34m(self, X, y, incremental)\u001b[0m\n\u001b[0;32m    482\u001b[0m \u001b[39m# Run the LBFGS solver\u001b[39;00m\n\u001b[0;32m    483\u001b[0m \u001b[39melif\u001b[39;00m \u001b[39mself\u001b[39m\u001b[39m.\u001b[39msolver \u001b[39m==\u001b[39m \u001b[39m\"\u001b[39m\u001b[39mlbfgs\u001b[39m\u001b[39m\"\u001b[39m:\n\u001b[1;32m--> 484\u001b[0m     \u001b[39mself\u001b[39;49m\u001b[39m.\u001b[39;49m_fit_lbfgs(\n\u001b[0;32m    485\u001b[0m         X, y, activations, deltas, coef_grads, intercept_grads, layer_units\n\u001b[0;32m    486\u001b[0m     )\n\u001b[0;32m    488\u001b[0m \u001b[39m# validate parameter weights\u001b[39;00m\n\u001b[0;32m    489\u001b[0m weights \u001b[39m=\u001b[39m chain(\u001b[39mself\u001b[39m\u001b[39m.\u001b[39mcoefs_, \u001b[39mself\u001b[39m\u001b[39m.\u001b[39mintercepts_)\n",
            "File \u001b[1;32mc:\\Users\\juanq\\anaconda3\\lib\\site-packages\\sklearn\\neural_network\\_multilayer_perceptron.py:528\u001b[0m, in \u001b[0;36mBaseMultilayerPerceptron._fit_lbfgs\u001b[1;34m(self, X, y, activations, deltas, coef_grads, intercept_grads, layer_units)\u001b[0m\n\u001b[0;32m    525\u001b[0m \u001b[39melse\u001b[39;00m:\n\u001b[0;32m    526\u001b[0m     iprint \u001b[39m=\u001b[39m \u001b[39m-\u001b[39m\u001b[39m1\u001b[39m\n\u001b[1;32m--> 528\u001b[0m opt_res \u001b[39m=\u001b[39m scipy\u001b[39m.\u001b[39;49moptimize\u001b[39m.\u001b[39;49mminimize(\n\u001b[0;32m    529\u001b[0m     \u001b[39mself\u001b[39;49m\u001b[39m.\u001b[39;49m_loss_grad_lbfgs,\n\u001b[0;32m    530\u001b[0m     packed_coef_inter,\n\u001b[0;32m    531\u001b[0m     method\u001b[39m=\u001b[39;49m\u001b[39m\"\u001b[39;49m\u001b[39mL-BFGS-B\u001b[39;49m\u001b[39m\"\u001b[39;49m,\n\u001b[0;32m    532\u001b[0m     jac\u001b[39m=\u001b[39;49m\u001b[39mTrue\u001b[39;49;00m,\n\u001b[0;32m    533\u001b[0m     options\u001b[39m=\u001b[39;49m{\n\u001b[0;32m    534\u001b[0m         \u001b[39m\"\u001b[39;49m\u001b[39mmaxfun\u001b[39;49m\u001b[39m\"\u001b[39;49m: \u001b[39mself\u001b[39;49m\u001b[39m.\u001b[39;49mmax_fun,\n\u001b[0;32m    535\u001b[0m         \u001b[39m\"\u001b[39;49m\u001b[39mmaxiter\u001b[39;49m\u001b[39m\"\u001b[39;49m: \u001b[39mself\u001b[39;49m\u001b[39m.\u001b[39;49mmax_iter,\n\u001b[0;32m    536\u001b[0m         \u001b[39m\"\u001b[39;49m\u001b[39miprint\u001b[39;49m\u001b[39m\"\u001b[39;49m: iprint,\n\u001b[0;32m    537\u001b[0m         \u001b[39m\"\u001b[39;49m\u001b[39mgtol\u001b[39;49m\u001b[39m\"\u001b[39;49m: \u001b[39mself\u001b[39;49m\u001b[39m.\u001b[39;49mtol,\n\u001b[0;32m    538\u001b[0m     },\n\u001b[0;32m    539\u001b[0m     args\u001b[39m=\u001b[39;49m(X, y, activations, deltas, coef_grads, intercept_grads),\n\u001b[0;32m    540\u001b[0m )\n\u001b[0;32m    541\u001b[0m \u001b[39mself\u001b[39m\u001b[39m.\u001b[39mn_iter_ \u001b[39m=\u001b[39m _check_optimize_result(\u001b[39m\"\u001b[39m\u001b[39mlbfgs\u001b[39m\u001b[39m\"\u001b[39m, opt_res, \u001b[39mself\u001b[39m\u001b[39m.\u001b[39mmax_iter)\n\u001b[0;32m    542\u001b[0m \u001b[39mself\u001b[39m\u001b[39m.\u001b[39mloss_ \u001b[39m=\u001b[39m opt_res\u001b[39m.\u001b[39mfun\n",
            "File \u001b[1;32mc:\\Users\\juanq\\anaconda3\\lib\\site-packages\\scipy\\optimize\\_minimize.py:696\u001b[0m, in \u001b[0;36mminimize\u001b[1;34m(fun, x0, args, method, jac, hess, hessp, bounds, constraints, tol, callback, options)\u001b[0m\n\u001b[0;32m    693\u001b[0m     res \u001b[39m=\u001b[39m _minimize_newtoncg(fun, x0, args, jac, hess, hessp, callback,\n\u001b[0;32m    694\u001b[0m                              \u001b[39m*\u001b[39m\u001b[39m*\u001b[39moptions)\n\u001b[0;32m    695\u001b[0m \u001b[39melif\u001b[39;00m meth \u001b[39m==\u001b[39m \u001b[39m'\u001b[39m\u001b[39ml-bfgs-b\u001b[39m\u001b[39m'\u001b[39m:\n\u001b[1;32m--> 696\u001b[0m     res \u001b[39m=\u001b[39m _minimize_lbfgsb(fun, x0, args, jac, bounds,\n\u001b[0;32m    697\u001b[0m                            callback\u001b[39m=\u001b[39mcallback, \u001b[39m*\u001b[39m\u001b[39m*\u001b[39moptions)\n\u001b[0;32m    698\u001b[0m \u001b[39melif\u001b[39;00m meth \u001b[39m==\u001b[39m \u001b[39m'\u001b[39m\u001b[39mtnc\u001b[39m\u001b[39m'\u001b[39m:\n\u001b[0;32m    699\u001b[0m     res \u001b[39m=\u001b[39m _minimize_tnc(fun, x0, args, jac, bounds, callback\u001b[39m=\u001b[39mcallback,\n\u001b[0;32m    700\u001b[0m                         \u001b[39m*\u001b[39m\u001b[39m*\u001b[39moptions)\n",
            "File \u001b[1;32mc:\\Users\\juanq\\anaconda3\\lib\\site-packages\\scipy\\optimize\\_lbfgsb_py.py:353\u001b[0m, in \u001b[0;36m_minimize_lbfgsb\u001b[1;34m(fun, x0, args, jac, bounds, disp, maxcor, ftol, gtol, eps, maxfun, maxiter, iprint, callback, maxls, finite_diff_rel_step, **unknown_options)\u001b[0m\n\u001b[0;32m    348\u001b[0m \u001b[39mwhile\u001b[39;00m \u001b[39m1\u001b[39m:\n\u001b[0;32m    349\u001b[0m     \u001b[39m# x, f, g, wa, iwa, task, csave, lsave, isave, dsave = \\\u001b[39;00m\n\u001b[0;32m    350\u001b[0m     _lbfgsb\u001b[39m.\u001b[39msetulb(m, x, low_bnd, upper_bnd, nbd, f, g, factr,\n\u001b[0;32m    351\u001b[0m                    pgtol, wa, iwa, task, iprint, csave, lsave,\n\u001b[0;32m    352\u001b[0m                    isave, dsave, maxls)\n\u001b[1;32m--> 353\u001b[0m     task_str \u001b[39m=\u001b[39m task\u001b[39m.\u001b[39;49mtobytes()\n\u001b[0;32m    354\u001b[0m     \u001b[39mif\u001b[39;00m task_str\u001b[39m.\u001b[39mstartswith(\u001b[39mb\u001b[39m\u001b[39m'\u001b[39m\u001b[39mFG\u001b[39m\u001b[39m'\u001b[39m):\n\u001b[0;32m    355\u001b[0m         \u001b[39m# The minimization routine wants f and g at the current x.\u001b[39;00m\n\u001b[0;32m    356\u001b[0m         \u001b[39m# Note that interruptions due to maxfun are postponed\u001b[39;00m\n\u001b[0;32m    357\u001b[0m         \u001b[39m# until the completion of the current minimization iteration.\u001b[39;00m\n\u001b[0;32m    358\u001b[0m         \u001b[39m# Overwrite f and g:\u001b[39;00m\n\u001b[0;32m    359\u001b[0m         f, g \u001b[39m=\u001b[39m func_and_grad(x)\n",
            "\u001b[1;31mKeyboardInterrupt\u001b[0m: "
          ]
        }
      ],
      "source": [
        "# Menos precisa\n",
        "'''\n",
        "mlp_sgd = MLPClassifier(hidden_layer_sizes = (20,15,10,5), max_iter = 6000, solver = 'sgd', alpha = 1)\n",
        "mlp_adam = MLPClassifier(hidden_layer_sizes = (20,15,10,5), max_iter = 6000, solver = 'adam', alpha = 1)\n",
        "mlp_lbfgs = MLPClassifier(hidden_layer_sizes = (20,15,10,5), max_iter = 6000, solver = 'lbfgs', alpha = 1)\n",
        "\n",
        "mlp_sgd.fit(X_train, y_train)\n",
        "mlp_adam.fit(X_train, y_train)\n",
        "mlp_lbfgs.fit(X_train, y_train)\n",
        "\n",
        "results_nn_sgd = cross_validate(mlp_sgd, X, y, cv=5, scoring=scoring_metrics)\n",
        "results_nn_adam = cross_validate(mlp_adam, X, y, cv=5, scoring=scoring_metrics)\n",
        "results_nn_lbfgs = cross_validate(mlp_lbfgs, X, y, cv=5, scoring=scoring_metrics)\n",
        "\n",
        "nn_sgd_mean_metrics = calculate_mean_metrics(results_nn_sgd)\n",
        "nn_adam_mean_metrics = calculate_mean_metrics(results_nn_adam)\n",
        "nn_lbfgs_mean_metrics = calculate_mean_metrics(results_nn_lbfgs)\n",
        "\n",
        "metric_categories = ['accuracy', 'precision', 'recall', 'f1']\n",
        "N = len(metric_categories)\n",
        "fig, ax = plt.subplots()\n",
        "space = 1.5\n",
        "ind = np.arange(0,N*space, space) \n",
        "width_bar = 0.25\n",
        "\n",
        "rect1 = ax.bar(ind+0, nn_sgd_mean_metrics[2:], color = 'b', width = width_bar, label='sgd')\n",
        "rect2 = ax.bar(ind-0.50, nn_adam_mean_metrics[2:], color = 'g', width = width_bar, label='adam')\n",
        "rect3 = ax.bar(ind-0.25, nn_lbfgs_mean_metrics[2:], color = 'r', width = width_bar, label='lbfgs')\n",
        "\n",
        "ax.set_xlabel('Metric')\n",
        "ax.set_ylabel('Value')\n",
        "ax.set_title('Metric comparison')\n",
        "\n",
        "ax.set_xticks(ind)\n",
        "ax.set_xticklabels(metric_categories)\n",
        "ax.legend()\n",
        "plt.show()\n",
        "'''"
      ]
    },
    {
      "attachments": {},
      "cell_type": "markdown",
      "id": "45245069",
      "metadata": {},
      "source": [
        "# CONCLUSIONES DE LA EXPERIMENTACIÓN"
      ]
    },
    {
      "attachments": {},
      "cell_type": "markdown",
      "id": "e52307e9",
      "metadata": {},
      "source": [
        "Tras haber experimentado con los distintos modelos hemos concluido que los mejores modelos, de cada categoría son:\n",
        "\n",
        "    - Naive Bayes: Complemento.\n",
        "    - SVM: Sigmoide.\n",
        "    - NN: Cualquiera, pues devuelven resultados idénticos.\n",
        "\n",
        "A continuación analizaremos estos tres conjuntamente y elegiremos en base las métricas el mejor modelo de los tres."
      ]
    },
    {
      "cell_type": "code",
      "execution_count": 52,
      "id": "1a497b2f",
      "metadata": {},
      "outputs": [
        {
          "data": {
            "image/png": "[encoded data removed]",
            "text/plain": [
              "<Figure size 640x480 with 1 Axes>"
            ]
          },
          "metadata": {},
          "output_type": "display_data"
        }
      ],
      "source": [
        "metric_categories = ['accuracy', 'precision', 'recall', 'f1']\n",
        "N = len(metric_categories)\n",
        "fig, ax = plt.subplots()\n",
        "space = 1.5\n",
        "ind = np.arange(0,N*space, space) \n",
        "width_bar = 0.25\n",
        "\n",
        "rect1 = ax.bar(ind+0, nn_sgd_mean_metrics[2:], color = 'b', width = width_bar, label='nn_sgd')\n",
        "rect2 = ax.bar(ind-0.50, score_sigmoid_means[2:], color = 'g', width = width_bar, label='svm_sigmoid')\n",
        "rect3 = ax.bar(ind-0.25, score_complement_means[2:], color = 'r', width = width_bar, label='nb_complement')\n",
        "\n",
        "ax.set_xlabel('Metric')\n",
        "ax.set_ylabel('Value')\n",
        "ax.set_title('Metric comparison')\n",
        "\n",
        "ax.set_xticks(ind)\n",
        "ax.set_xticklabels(metric_categories)\n",
        "ax.legend()\n",
        "plt.show()"
      ]
    },
    {
      "attachments": {},
      "cell_type": "markdown",
      "id": "7b8e35a7",
      "metadata": {},
      "source": [
        "El modelo SVM es el claro ganador dominando las métricas 'accuracy', 'precision', aunque por detrás del modelo naive bayes en 'recall'.\n",
        "\n",
        "El modelo a finalmente a elegir tiene un alto grado de accuracy, por tanto clasifica correctamente hasta un 80% de los tweets. Y tiene una alta precisión, la cual de nuevo nos asegura que clasifica bien las clases positivas, positivo siendo en la clasificación multifactor la clase a predecir de donde luego se hace el macro-averaging de cada una. \n",
        "\n",
        "A pesar de esto, el modelo tiene un recall debajo del 50% por lo que aunque las instancias que el modelo clasifica de una clase pertenezcan realmente a esa clase (alta precisión), está perdiendo muchas instancias que deberían haber sido clasificadas en esa clase (bajo recall)."
      ]
    },
    {
      "attachments": {},
      "cell_type": "markdown",
      "id": "144cae6b",
      "metadata": {},
      "source": [
        "# PREDICCIÓN DE TWEETS"
      ]
    },
    {
      "cell_type": "code",
      "execution_count": null,
      "id": "bfd09b27",
      "metadata": {},
      "outputs": [],
      "source": []
    }
  ],
  "metadata": {
    "kernelspec": {
      "display_name": "Python 3 (ipykernel)",
      "language": "python",
      "name": "python3"
    },
    "language_info": {
      "codemirror_mode": {
        "name": "ipython",
        "version": 3
      },
      "file_extension": ".py",
      "mimetype": "text/x-python",
      "name": "python",
      "nbconvert_exporter": "python",
      "pygments_lexer": "ipython3",
      "version": "3.9.16"
    }
  },
  "nbformat": 4,
  "nbformat_minor": 5
}
